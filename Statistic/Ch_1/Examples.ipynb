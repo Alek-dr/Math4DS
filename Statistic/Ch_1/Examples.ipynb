{
 "cells": [
  {
   "cell_type": "markdown",
   "metadata": {},
   "source": [
    "<h2 style=\"text-align: center\"> <b>  Математическая статистика  </b> </h2>"
   ]
  },
  {
   "cell_type": "markdown",
   "metadata": {},
   "source": [
    "Примеры и определения взяты из источников:\n",
    "* Сборник задач по математике т.4 под редакцией А.В.Ефимова и А.С.Попелова (1)\n",
    "* Schaum's Outline of Statistics 3rd Edition by Murray R Spiegel, Larry J Stephens (2)"
   ]
  },
  {
   "cell_type": "markdown",
   "metadata": {},
   "source": [
    "В Python есть несколько библиотек, необходимых для решения подобных задач. В зависимотси от конкретной задачи, целесообразно использовать одну из них: <br>\n",
    "$\\textbf{numpy}$ - пожалуй, основная библиотека для работы с числовыми данными в python. Написана на C и оптимизирована для работы с многомерными массивами, что обеспечивает достаточно высокое быстродействие; <br>\n",
    "$\\textbf{pandas}$ - преднанзначена для задач аналитики. Позволят строить красивые таблицы, использовать SQL подобные операции. Pandas написана поверх numpy на python и, как следствие, имеет более низкую производительность; <br>\n",
    "Раз уж мы решаем задачи статистики, стоит упомянуть $\\textbf{statsmodels}$  - реализация статистических моделей. Написана поверх numpy и scipy. Результаты работы в statsmodels похожи на аналогичные вычисления в языке R; <br>\n",
    "$\\textbf{scipy}$ - библиотека всевозможных научных расчетов. Написана на Python,С,С++."
   ]
  },
  {
   "cell_type": "code",
   "execution_count": 1,
   "metadata": {},
   "outputs": [],
   "source": [
    "import numpy as np\n",
    "import pandas as pd\n",
    "from scipy.stats import mode\n",
    "from statsmodels.distributions.empirical_distribution import ECDF\n",
    "from collections import Counter\n",
    "from numpy import square\n",
    "from typing import List\n",
    "import matplotlib.pyplot as plt"
   ]
  },
  {
   "cell_type": "markdown",
   "metadata": {},
   "source": [
    "####  Выборка и способы ее представления\n",
    "*Вариационным рядом выборки* $x_{1},x_{2},...,x_{n}$ называется способ её представления, при котором элементы упорядочиваются по её величине, т.е. записываются в виде последовательности $x^{(1)},x^{(2)},...,x^{(n)}$, где $x^{(1)} \\leq x^{(2)} \\leq...\\leq x^{(n)}$. Разность между максимальным и минимальным элементами выборки $x^{(n)}-x^{(1)}=\\omega$ называется *размахом* выборки.<br>\n",
    "*Статистическим рядом* называется последовательность пар ($z_{i},n_{i}$). Обычно, статистический рад записывается в виде таблицы, первая строка которой содержит элементы $z_{i}$, а вторая - их частоты.\n",
    "\n",
    "Пример 1.1. Записать в виде вариационного и статистического рядов выборку 5,3,7,10,5,5,2,10,7,2,7,7,4,2,4. Определить размах выборки.\n",
    "\n",
    "<div style=\"text-align: right\"> 1, гл. 19.1 </div>"
   ]
  },
  {
   "cell_type": "code",
   "execution_count": 2,
   "metadata": {},
   "outputs": [],
   "source": [
    "Arr = np.array([5,3,7,10,5,5,2,10,7,2,7,7,4,2,4])"
   ]
  },
  {
   "cell_type": "code",
   "execution_count": 3,
   "metadata": {},
   "outputs": [],
   "source": [
    "# Решение с помощью numpy"
   ]
  },
  {
   "cell_type": "code",
   "execution_count": 4,
   "metadata": {},
   "outputs": [],
   "source": [
    "# Размах\n",
    "w = Arr.max() - Arr.min()"
   ]
  },
  {
   "cell_type": "code",
   "execution_count": 5,
   "metadata": {},
   "outputs": [],
   "source": [
    "# Вариационный ряд\n",
    "# sort - остортирует элементы в порядке возрастания, т.е. получим вариационный ряд\n",
    "Arr.sort()"
   ]
  },
  {
   "cell_type": "code",
   "execution_count": 6,
   "metadata": {},
   "outputs": [
    {
     "data": {
      "text/plain": [
       "array([ 2,  2,  2,  3,  4,  4,  5,  5,  5,  7,  7,  7,  7, 10, 10])"
      ]
     },
     "execution_count": 6,
     "metadata": {},
     "output_type": "execute_result"
    }
   ],
   "source": [
    "Arr"
   ]
  },
  {
   "cell_type": "code",
   "execution_count": 7,
   "metadata": {},
   "outputs": [],
   "source": [
    "# Статистический ряд\n",
    "# z - уникальные числа, n - частоты\n",
    "z,n = np.unique(Arr, return_counts=True)\n",
    "S = np.vstack((z,n))"
   ]
  },
  {
   "cell_type": "code",
   "execution_count": 8,
   "metadata": {},
   "outputs": [
    {
     "data": {
      "text/plain": [
       "array([[ 2,  3,  4,  5,  7, 10],\n",
       "       [ 3,  1,  2,  3,  4,  2]])"
      ]
     },
     "execution_count": 8,
     "metadata": {},
     "output_type": "execute_result"
    }
   ],
   "source": [
    "S"
   ]
  },
  {
   "cell_type": "markdown",
   "metadata": {},
   "source": [
    "Проверим, что \n",
    "<p style=\"text-align: center\"> <b>  $\\sum_{n=1}^{k}n_{i}=n,$ </b> </p>\n",
    "где k-число различных чисел в выборке."
   ]
  },
  {
   "cell_type": "code",
   "execution_count": 9,
   "metadata": {},
   "outputs": [
    {
     "data": {
      "text/plain": [
       "True"
      ]
     },
     "execution_count": 9,
     "metadata": {},
     "output_type": "execute_result"
    }
   ],
   "source": [
    "n.sum() == len(Arr)"
   ]
  },
  {
   "cell_type": "code",
   "execution_count": 10,
   "metadata": {},
   "outputs": [],
   "source": [
    "# Решим то же самое и сипользованием pandas"
   ]
  },
  {
   "cell_type": "code",
   "execution_count": 11,
   "metadata": {},
   "outputs": [],
   "source": [
    "df = pd.DataFrame(Arr, columns=['x'])"
   ]
  },
  {
   "cell_type": "code",
   "execution_count": 12,
   "metadata": {},
   "outputs": [],
   "source": [
    "w = df.x.max() - df.x.min()"
   ]
  },
  {
   "cell_type": "code",
   "execution_count": 13,
   "metadata": {},
   "outputs": [
    {
     "data": {
      "text/plain": [
       "array([ 2,  2,  2,  3,  4,  4,  5,  5,  5,  7,  7,  7,  7, 10, 10])"
      ]
     },
     "execution_count": 13,
     "metadata": {},
     "output_type": "execute_result"
    }
   ],
   "source": [
    "df.x.sort_values().values"
   ]
  },
  {
   "cell_type": "code",
   "execution_count": 14,
   "metadata": {},
   "outputs": [],
   "source": [
    "s = df.x.value_counts().sort_index()"
   ]
  },
  {
   "cell_type": "code",
   "execution_count": 15,
   "metadata": {},
   "outputs": [],
   "source": [
    "s = pd.DataFrame({\"z\": s.index.values, \"n\":s.values})"
   ]
  },
  {
   "cell_type": "code",
   "execution_count": 16,
   "metadata": {},
   "outputs": [
    {
     "data": {
      "text/html": [
       "<div>\n",
       "<style scoped>\n",
       "    .dataframe tbody tr th:only-of-type {\n",
       "        vertical-align: middle;\n",
       "    }\n",
       "\n",
       "    .dataframe tbody tr th {\n",
       "        vertical-align: top;\n",
       "    }\n",
       "\n",
       "    .dataframe thead th {\n",
       "        text-align: right;\n",
       "    }\n",
       "</style>\n",
       "<table border=\"1\" class=\"dataframe\">\n",
       "  <thead>\n",
       "    <tr style=\"text-align: right;\">\n",
       "      <th></th>\n",
       "      <th>z</th>\n",
       "      <th>n</th>\n",
       "    </tr>\n",
       "  </thead>\n",
       "  <tbody>\n",
       "    <tr>\n",
       "      <th>0</th>\n",
       "      <td>2</td>\n",
       "      <td>3</td>\n",
       "    </tr>\n",
       "    <tr>\n",
       "      <th>1</th>\n",
       "      <td>3</td>\n",
       "      <td>1</td>\n",
       "    </tr>\n",
       "    <tr>\n",
       "      <th>2</th>\n",
       "      <td>4</td>\n",
       "      <td>2</td>\n",
       "    </tr>\n",
       "    <tr>\n",
       "      <th>3</th>\n",
       "      <td>5</td>\n",
       "      <td>3</td>\n",
       "    </tr>\n",
       "    <tr>\n",
       "      <th>4</th>\n",
       "      <td>7</td>\n",
       "      <td>4</td>\n",
       "    </tr>\n",
       "    <tr>\n",
       "      <th>5</th>\n",
       "      <td>10</td>\n",
       "      <td>2</td>\n",
       "    </tr>\n",
       "  </tbody>\n",
       "</table>\n",
       "</div>"
      ],
      "text/plain": [
       "    z  n\n",
       "0   2  3\n",
       "1   3  1\n",
       "2   4  2\n",
       "3   5  3\n",
       "4   7  4\n",
       "5  10  2"
      ]
     },
     "execution_count": 16,
     "metadata": {},
     "output_type": "execute_result"
    }
   ],
   "source": [
    "s"
   ]
  },
  {
   "cell_type": "code",
   "execution_count": 17,
   "metadata": {},
   "outputs": [
    {
     "data": {
      "text/html": [
       "<style  type=\"text/css\" >\n",
       "</style><table id=\"T_ea4b42ce_6f3f_11ea_bfde_e0d55e416cde\" ><thead>    <tr>        <th class=\"col_heading level0 col0\" >z</th>        <th class=\"col_heading level0 col1\" >n</th>    </tr></thead><tbody>\n",
       "                <tr>\n",
       "                                <td id=\"T_ea4b42ce_6f3f_11ea_bfde_e0d55e416cderow0_col0\" class=\"data row0 col0\" >2</td>\n",
       "                        <td id=\"T_ea4b42ce_6f3f_11ea_bfde_e0d55e416cderow0_col1\" class=\"data row0 col1\" >3</td>\n",
       "            </tr>\n",
       "            <tr>\n",
       "                                <td id=\"T_ea4b42ce_6f3f_11ea_bfde_e0d55e416cderow1_col0\" class=\"data row1 col0\" >3</td>\n",
       "                        <td id=\"T_ea4b42ce_6f3f_11ea_bfde_e0d55e416cderow1_col1\" class=\"data row1 col1\" >1</td>\n",
       "            </tr>\n",
       "            <tr>\n",
       "                                <td id=\"T_ea4b42ce_6f3f_11ea_bfde_e0d55e416cderow2_col0\" class=\"data row2 col0\" >4</td>\n",
       "                        <td id=\"T_ea4b42ce_6f3f_11ea_bfde_e0d55e416cderow2_col1\" class=\"data row2 col1\" >2</td>\n",
       "            </tr>\n",
       "            <tr>\n",
       "                                <td id=\"T_ea4b42ce_6f3f_11ea_bfde_e0d55e416cderow3_col0\" class=\"data row3 col0\" >5</td>\n",
       "                        <td id=\"T_ea4b42ce_6f3f_11ea_bfde_e0d55e416cderow3_col1\" class=\"data row3 col1\" >3</td>\n",
       "            </tr>\n",
       "            <tr>\n",
       "                                <td id=\"T_ea4b42ce_6f3f_11ea_bfde_e0d55e416cderow4_col0\" class=\"data row4 col0\" >7</td>\n",
       "                        <td id=\"T_ea4b42ce_6f3f_11ea_bfde_e0d55e416cderow4_col1\" class=\"data row4 col1\" >4</td>\n",
       "            </tr>\n",
       "            <tr>\n",
       "                                <td id=\"T_ea4b42ce_6f3f_11ea_bfde_e0d55e416cderow5_col0\" class=\"data row5 col0\" >10</td>\n",
       "                        <td id=\"T_ea4b42ce_6f3f_11ea_bfde_e0d55e416cderow5_col1\" class=\"data row5 col1\" >2</td>\n",
       "            </tr>\n",
       "    </tbody></table>"
      ],
      "text/plain": [
       "<pandas.io.formats.style.Styler at 0x7fbd8810c950>"
      ]
     },
     "execution_count": 17,
     "metadata": {},
     "output_type": "execute_result"
    }
   ],
   "source": [
    "s.style.hide_index()"
   ]
  },
  {
   "cell_type": "code",
   "execution_count": 18,
   "metadata": {},
   "outputs": [
    {
     "data": {
      "text/html": [
       "<div>\n",
       "<style scoped>\n",
       "    .dataframe tbody tr th:only-of-type {\n",
       "        vertical-align: middle;\n",
       "    }\n",
       "\n",
       "    .dataframe tbody tr th {\n",
       "        vertical-align: top;\n",
       "    }\n",
       "\n",
       "    .dataframe thead th {\n",
       "        text-align: right;\n",
       "    }\n",
       "</style>\n",
       "<table border=\"1\" class=\"dataframe\">\n",
       "  <thead>\n",
       "    <tr style=\"text-align: right;\">\n",
       "      <th></th>\n",
       "      <th>0</th>\n",
       "      <th>1</th>\n",
       "      <th>2</th>\n",
       "      <th>3</th>\n",
       "      <th>4</th>\n",
       "      <th>5</th>\n",
       "    </tr>\n",
       "  </thead>\n",
       "  <tbody>\n",
       "    <tr>\n",
       "      <th>z</th>\n",
       "      <td>2</td>\n",
       "      <td>3</td>\n",
       "      <td>4</td>\n",
       "      <td>5</td>\n",
       "      <td>7</td>\n",
       "      <td>10</td>\n",
       "    </tr>\n",
       "    <tr>\n",
       "      <th>n</th>\n",
       "      <td>3</td>\n",
       "      <td>1</td>\n",
       "      <td>2</td>\n",
       "      <td>3</td>\n",
       "      <td>4</td>\n",
       "      <td>2</td>\n",
       "    </tr>\n",
       "  </tbody>\n",
       "</table>\n",
       "</div>"
      ],
      "text/plain": [
       "   0  1  2  3  4   5\n",
       "z  2  3  4  5  7  10\n",
       "n  3  1  2  3  4   2"
      ]
     },
     "execution_count": 18,
     "metadata": {},
     "output_type": "execute_result"
    }
   ],
   "source": [
    "s.T"
   ]
  },
  {
   "cell_type": "markdown",
   "metadata": {},
   "source": [
    "Пример 1.2. Представить выборку из 55 наблюдений в виде таблицы частот, используя 7 нтервалов группировки. Выборока:\n",
    "<p style=\"text-align: center\"> \n",
    "              20.3, 15.4, 17.2, 19.2, 23.3, 18.1, 21.9,<br>\n",
    "              15.3, 16.8, 13.2, 20.4, 16.5, 19.7, 20.5,<br>\n",
    "              14.3, 20.1, 16.8, 14.7, 20.8, 19.5, 15.3,<br>\n",
    "              19.3, 17.8, 16.2, 15.7, 22.8, 21.9, 12.5,<br>\n",
    "              10.1, 21.1, 18.3, 14.7, 14.5, 18.1, 18.4,<br>\n",
    "              13.9, 19.1, 18.5, 20.2, 23.8, 16.7, 20.4,<br>\n",
    "              19.5, 17.2, 19.6, 17.8, 21.3, 17.5, 19.4,<br>\n",
    "              17.8, 13.5, 17.8, 11.8, 18.6, 19.1 </p>"
   ]
  },
  {
   "cell_type": "markdown",
   "metadata": {},
   "source": [
    "При большом объеме выборки её элементы объединяют в гурпы (разряды), представляя результаты опытов в виде  *группированого статистического ряда*. Для этого интервал, содержащий все элементы выборки, разбивается на k интервалов. Инервалы имеют длину *b*$\\approx\\frac{\\omega}{k}$. После того, как частичные интервалы выбраны, определяют частоты - количество $n_{i}$ элементов выборки, попавших в i-й интервал. Полученный статистический ряд в верхней строке содержит середины $z_{i}$ интервалов группировки, а в нижней частоты $n_{i}$ (i=1,2,...,k).<br>\n",
    "Наряду с частотами одновременно подсчитываются также накопленные частоты  $\\sum_{j=1}^{i}n_{j}$, относительные частоты $\\frac{n_{i}}{n}$. Полученные результаты сводятся в таблицу, называемую *таблицей частот группированной выборки*.\n",
    "<div style=\"text-align: right\"> 1, гл. 19.1 </div>"
   ]
  },
  {
   "cell_type": "markdown",
   "metadata": {},
   "source": [
    "Сразу отметим, что в книге есть опечатка, и количество элементов на интервале 18-20 и 20-22 отличается на 1. Будем использовать приведенную выборку, но графики будут слегка отличаться от приведенных в книге."
   ]
  },
  {
   "cell_type": "code",
   "execution_count": 19,
   "metadata": {},
   "outputs": [],
   "source": [
    "# Решать эту задачу на numpy нет особого смысла, т.к. группированный статистический ряд \n",
    "# предназначен для анализа человеком, чтоб на него посмотреть глазами. \n",
    "# А это типичная задача pandas."
   ]
  },
  {
   "cell_type": "code",
   "execution_count": 20,
   "metadata": {},
   "outputs": [],
   "source": [
    "M = np.array([20.3, 15.4, 17.2, 19.2, 23.3, 18.1, 21.9,\n",
    "              15.3, 16.8, 13.2, 20.4, 16.5, 19.7, 20.5,\n",
    "              14.3, 20.1, 16.8, 14.7, 20.8, 19.5, 15.3,\n",
    "              19.3, 17.8, 16.2, 15.7, 22.8, 21.9, 12.5,\n",
    "              10.1, 21.1, 18.3, 14.7, 14.5, 18.1, 18.4,\n",
    "              13.9, 19.1, 18.5, 20.2, 23.8, 16.7, 20.4,\n",
    "              19.5, 17.2, 19.6, 17.8, 21.3, 17.5, 19.4,\n",
    "              17.8, 13.5, 17.8, 11.8, 18.6, 19.1])"
   ]
  },
  {
   "cell_type": "code",
   "execution_count": 21,
   "metadata": {},
   "outputs": [],
   "source": [
    "def freq_grouped_values(M: np.array, n_intervals: int) -> pd.DataFrame:\n",
    "    \"\"\"\n",
    "    Таблица частот группированной выборки\n",
    "    \"\"\"\n",
    "    df = pd.DataFrame(M)\n",
    "    start = round(min(M))\n",
    "    w = max(M)-min(M)\n",
    "    b = round(w/n_intervals)\n",
    "    end = round(max(M))\n",
    "    L = len(M)\n",
    "    df = df.groupby(pd.cut(M, np.arange(start,end+b,b))).agg(['count'])\n",
    "    df.columns = df.columns.get_level_values(0)\n",
    "    df.columns = ['Freq']\n",
    "    mid_points = np.arange(start+b/2,end,b)\n",
    "    df['Mid_points'] = mid_points\n",
    "    df['Cum_freq'] = df['Freq'].cumsum()\n",
    "    df['Rel_freq'] = df['Freq'] / L\n",
    "    df['Rel_c_freq'] = df['Cum_freq'] / L\n",
    "    df = df[['Mid_points','Freq','Cum_freq','Rel_freq','Rel_c_freq']]\n",
    "    return df.round(4)"
   ]
  },
  {
   "cell_type": "code",
   "execution_count": 22,
   "metadata": {},
   "outputs": [],
   "source": [
    "# значеия понадобятся дальше\n",
    "n_intervals = 7\n",
    "w = max(M)-min(M)\n",
    "b = round(w/n_intervals)\n",
    "start = round(min(M))\n",
    "end = round(max(M))"
   ]
  },
  {
   "cell_type": "code",
   "execution_count": 23,
   "metadata": {},
   "outputs": [],
   "source": [
    "T = freq_grouped_values(M,n_intervals)"
   ]
  },
  {
   "cell_type": "code",
   "execution_count": 24,
   "metadata": {},
   "outputs": [
    {
     "data": {
      "text/html": [
       "<div>\n",
       "<style scoped>\n",
       "    .dataframe tbody tr th:only-of-type {\n",
       "        vertical-align: middle;\n",
       "    }\n",
       "\n",
       "    .dataframe tbody tr th {\n",
       "        vertical-align: top;\n",
       "    }\n",
       "\n",
       "    .dataframe thead th {\n",
       "        text-align: right;\n",
       "    }\n",
       "</style>\n",
       "<table border=\"1\" class=\"dataframe\">\n",
       "  <thead>\n",
       "    <tr style=\"text-align: right;\">\n",
       "      <th></th>\n",
       "      <th>Mid_points</th>\n",
       "      <th>Freq</th>\n",
       "      <th>Cum_freq</th>\n",
       "      <th>Rel_freq</th>\n",
       "      <th>Rel_c_freq</th>\n",
       "    </tr>\n",
       "  </thead>\n",
       "  <tbody>\n",
       "    <tr>\n",
       "      <th>(10.0, 12.0]</th>\n",
       "      <td>11.0</td>\n",
       "      <td>2</td>\n",
       "      <td>2</td>\n",
       "      <td>0.0364</td>\n",
       "      <td>0.0364</td>\n",
       "    </tr>\n",
       "    <tr>\n",
       "      <th>(12.0, 14.0]</th>\n",
       "      <td>13.0</td>\n",
       "      <td>4</td>\n",
       "      <td>6</td>\n",
       "      <td>0.0727</td>\n",
       "      <td>0.1091</td>\n",
       "    </tr>\n",
       "    <tr>\n",
       "      <th>(14.0, 16.0]</th>\n",
       "      <td>15.0</td>\n",
       "      <td>8</td>\n",
       "      <td>14</td>\n",
       "      <td>0.1455</td>\n",
       "      <td>0.2545</td>\n",
       "    </tr>\n",
       "    <tr>\n",
       "      <th>(16.0, 18.0]</th>\n",
       "      <td>17.0</td>\n",
       "      <td>12</td>\n",
       "      <td>26</td>\n",
       "      <td>0.2182</td>\n",
       "      <td>0.4727</td>\n",
       "    </tr>\n",
       "    <tr>\n",
       "      <th>(18.0, 20.0]</th>\n",
       "      <td>19.0</td>\n",
       "      <td>15</td>\n",
       "      <td>41</td>\n",
       "      <td>0.2727</td>\n",
       "      <td>0.7455</td>\n",
       "    </tr>\n",
       "    <tr>\n",
       "      <th>(20.0, 22.0]</th>\n",
       "      <td>21.0</td>\n",
       "      <td>11</td>\n",
       "      <td>52</td>\n",
       "      <td>0.2000</td>\n",
       "      <td>0.9455</td>\n",
       "    </tr>\n",
       "    <tr>\n",
       "      <th>(22.0, 24.0]</th>\n",
       "      <td>23.0</td>\n",
       "      <td>3</td>\n",
       "      <td>55</td>\n",
       "      <td>0.0545</td>\n",
       "      <td>1.0000</td>\n",
       "    </tr>\n",
       "  </tbody>\n",
       "</table>\n",
       "</div>"
      ],
      "text/plain": [
       "              Mid_points  Freq  Cum_freq  Rel_freq  Rel_c_freq\n",
       "(10.0, 12.0]        11.0     2         2    0.0364      0.0364\n",
       "(12.0, 14.0]        13.0     4         6    0.0727      0.1091\n",
       "(14.0, 16.0]        15.0     8        14    0.1455      0.2545\n",
       "(16.0, 18.0]        17.0    12        26    0.2182      0.4727\n",
       "(18.0, 20.0]        19.0    15        41    0.2727      0.7455\n",
       "(20.0, 22.0]        21.0    11        52    0.2000      0.9455\n",
       "(22.0, 24.0]        23.0     3        55    0.0545      1.0000"
      ]
     },
     "execution_count": 24,
     "metadata": {},
     "output_type": "execute_result"
    }
   ],
   "source": [
    "T"
   ]
  },
  {
   "cell_type": "markdown",
   "metadata": {},
   "source": [
    "Пусть ($x_{1},x_{2},...,x_{n}$) - выборка из генеральной совокупности с функцией распределения $F_{x}(x)$. *Распределением выборки* называется распределение дискретной случайной величины, принимающей значения распределения $x_{1},x_{2},...,x_{n}$ с вероятностями $\\frac{1}{n}$. Соответствующая функция распределения называется *эмперической (выборочной) функцией распределения* и обозначается $F_{n}^{*}(x)$."
   ]
  },
  {
   "cell_type": "markdown",
   "metadata": {},
   "source": [
    "Эмперическая функция распределения определяется по значениям накопленных частот соотношением\n",
    "<p style=\"text-align: center\"> <b>  $F_{n}^{*}(x)=\\frac{1}{n}\\sum_{z_{i}<x}^{}n_{i},$ </b> </p>\n",
    "суммируются частоты тех элементо выборки, для которых выполняется неравенство $z_{i}<x$."
   ]
  },
  {
   "cell_type": "markdown",
   "metadata": {},
   "source": [
    "*Гистограммой частот* группированной выборки называется кусочно-постоянная функция, постоянная на интервалах группировки и принимающая на каждом их них значения $\\frac{n_{i}}{b}$, i=1.2...k соответственно. Аналогично определяется гитограмма относительных частот."
   ]
  },
  {
   "cell_type": "markdown",
   "metadata": {},
   "source": [
    "*Полигоном частот* называется ломаная с вершинами в точках ($z_{i},\\frac{n_{i}}{b}$), i=1.2...k, а полигоном относительных частот - ломаная с вершинами в точках ($z_{i},\\frac{n_{i}}{nb}$), i=1.2...k."
   ]
  },
  {
   "cell_type": "markdown",
   "metadata": {},
   "source": [
    "Пример 1.3. Построить гистограмму и полигон частот, а также график эмпирической функции распределения группированной выборки из примера 2.\n",
    "<div style=\"text-align: right\"> 1, гл. 19.1 </div>"
   ]
  },
  {
   "cell_type": "code",
   "execution_count": 25,
   "metadata": {},
   "outputs": [],
   "source": [
    "# Реализуем функцию эмпирического распределения в лоб - для наглядности"
   ]
  },
  {
   "cell_type": "code",
   "execution_count": 26,
   "metadata": {},
   "outputs": [],
   "source": [
    "def empirical_distribution(M:np.array,T:pd.DataFrame)->np.array:\n",
    "    \"\"\"\n",
    "    Эмперическая функция распределения\n",
    "    \"\"\"\n",
    "    F = []\n",
    "    L = len(M)\n",
    "    for x in M:\n",
    "        f = 0\n",
    "        for i,row in T.iterrows():\n",
    "            z = row.Mid_points\n",
    "            n = row.Freq\n",
    "            if z < x:\n",
    "                f+=n\n",
    "        F.append(f/L)\n",
    "    return np.unique(np.array(F))"
   ]
  },
  {
   "cell_type": "code",
   "execution_count": 27,
   "metadata": {},
   "outputs": [],
   "source": [
    "F = empirical_distribution(M,T)"
   ]
  },
  {
   "cell_type": "code",
   "execution_count": 28,
   "metadata": {},
   "outputs": [
    {
     "data": {
      "text/plain": [
       "array([0.        , 0.03636364, 0.10909091, 0.25454545, 0.47272727,\n",
       "       0.74545455, 0.94545455, 1.        ])"
      ]
     },
     "execution_count": 28,
     "metadata": {},
     "output_type": "execute_result"
    }
   ],
   "source": [
    "F"
   ]
  },
  {
   "cell_type": "code",
   "execution_count": 29,
   "metadata": {},
   "outputs": [],
   "source": [
    "# В англоязычной литературе эмперическая функция распределения известна как \n",
    "# empirical cumulative distribution function - ECDF. Её реализация есть в библиотеке statsmodels."
   ]
  },
  {
   "cell_type": "code",
   "execution_count": 30,
   "metadata": {},
   "outputs": [],
   "source": [
    "# ECDF принимает на вход массив, а возвращает функцию, которая показывает значение функции F(x)\n",
    "ecdf = ECDF(M)"
   ]
  },
  {
   "cell_type": "code",
   "execution_count": 31,
   "metadata": {},
   "outputs": [],
   "source": [
    "F_ = [round(ecdf(x),4) for x in np.arange(start,end+b,b)]\n",
    "F = F.round(4)"
   ]
  },
  {
   "cell_type": "code",
   "execution_count": 32,
   "metadata": {},
   "outputs": [],
   "source": [
    "# Проверим, что наша реализация работает корректно"
   ]
  },
  {
   "cell_type": "code",
   "execution_count": 33,
   "metadata": {},
   "outputs": [
    {
     "data": {
      "text/plain": [
       "array([ True,  True,  True,  True,  True,  True,  True,  True])"
      ]
     },
     "execution_count": 33,
     "metadata": {},
     "output_type": "execute_result"
    }
   ],
   "source": [
    "F == F_"
   ]
  },
  {
   "cell_type": "code",
   "execution_count": 34,
   "metadata": {},
   "outputs": [],
   "source": [
    "# Построим указанные графики"
   ]
  },
  {
   "cell_type": "code",
   "execution_count": 35,
   "metadata": {},
   "outputs": [
    {
     "data": {
      "text/plain": [
       "Text(0.5, 1.0, 'Накопленные частоты')"
      ]
     },
     "execution_count": 35,
     "metadata": {},
     "output_type": "execute_result"
    },
    {
     "data": {
      "image/png": "[encoded data removed]",
      "text/plain": [
       "<Figure size 1152x1080 with 6 Axes>"
      ]
     },
     "metadata": {
      "needs_background": "light"
     },
     "output_type": "display_data"
    }
   ],
   "source": [
    "fig, axes = plt.subplots(3,2, figsize=(16,15))\n",
    "x = np.arange(start+b,end+b,b)\n",
    "axes[0,0].bar(x=x, height=T.Freq/b, width=-1.96, linewidth=1, color='grey', edgecolor='black',align='edge')\n",
    "axes[0,0].grid(True)\n",
    "axes[0,0].set_xlabel(\"x\")\n",
    "axes[0,0].set_ylabel(\"n*/2\")\n",
    "axes[0,0].set_title(\"Гистограмма частот\")\n",
    "\n",
    "axes[0,1].grid(True)\n",
    "axes[0,1].plot(T.Mid_points, T.Freq/b, color='grey')\n",
    "axes[0,1].plot(T.Mid_points, T.Freq/b, marker='o', color='grey', markersize=6)\n",
    "axes[0,1].set_xlabel(\"x\")\n",
    "axes[0,1].set_ylabel(\"n*\")\n",
    "axes[0,1].set_title(\"Полигон частот\")\n",
    "\n",
    "x = np.arange(start,end+b,b)\n",
    "axes[1,0].bar(x=x, height=F, width=-2, color='grey', edgecolor='black',align='center')\n",
    "axes[1,0].grid(True)\n",
    "axes[1,0].set_xlabel(\"x\")\n",
    "axes[1,0].set_ylabel(\"F*\")\n",
    "axes[1,0].set_title(\"Эмперическая функция распределения\")\n",
    "\n",
    "axes[1,1].plot(x,F, color='grey')\n",
    "axes[1,1].grid(True)\n",
    "axes[1,1].set_xlabel(\"x\")\n",
    "axes[1,1].set_ylabel(\"F*\")\n",
    "axes[1,1].set_title(\"Эмперическая функция распределения\")\n",
    "\n",
    "axes[2,1].plot([x.right for x in T.index], T.Cum_freq, color='grey')\n",
    "axes[2,1].grid(True)\n",
    "axes[2,1].set_xlabel(\"x\")\n",
    "axes[2,1].set_ylabel(\"Cummulative Frequency\")\n",
    "axes[2,1].set_title(\"Накопленные частоты\")"
   ]
  },
  {
   "cell_type": "markdown",
   "metadata": {},
   "source": [
    "Пример 1.4. Даны оценки 80 студентов по математике. Найти: <br>\n",
    "1. Наивысший балл. \n",
    "2. Низший балл. \n",
    "3. Размах. \n",
    "4. Оценки 5 лучших студентов. \n",
    "5. Оценки 5 худших студентов.\n",
    "6. Оценку 10-го из лучших.\n",
    "7. Количество студентов, набравших балл выше 75 (включительно).\n",
    "8. Количество студентов, набравших балл ниже 85.\n",
    "9. Процент студентов, набрашвих балл выше 65, но не выше 85. \n",
    "10. Балллы, которые не появились совсем. \n",
    "<div style=\"text-align: right\"> 2, pr 2.2 </div>"
   ]
  },
  {
   "cell_type": "code",
   "execution_count": 36,
   "metadata": {},
   "outputs": [],
   "source": [
    "M = np.array([68, 84, 75, 82, 68, 90, 62, 88, 76, 93,\n",
    "              73, 79, 88, 73, 60, 93, 71, 59, 85, 75,\n",
    "              61, 65, 75, 87, 74, 62, 95, 78, 63, 72,\n",
    "              66, 78, 82, 75, 94, 77, 69, 74, 68, 60,\n",
    "              96, 78, 89, 61, 75, 95, 60, 79, 83, 71,\n",
    "              79, 62, 67, 97, 78, 85, 76, 65, 71, 75,\n",
    "              65, 80, 73, 57, 88, 78, 62, 76, 53, 74,\n",
    "              86, 67, 73, 81, 72, 63, 76, 75, 85, 77])"
   ]
  },
  {
   "cell_type": "code",
   "execution_count": 37,
   "metadata": {},
   "outputs": [
    {
     "name": "stdout",
     "output_type": "stream",
     "text": [
      "The highest grade: 97\n",
      "The lowest grade: 53\n",
      "Rage: 44\n",
      "Grades of 5 higest-ranking students: [94 95 95 96 97]\n",
      "Grades of 5 lowest-ranking students: [53 57 59 60 60]\n",
      "The grade of student ranking tenth-highest: 88\n",
      "Number of students who recived gades of 75 o higher: 44\n",
      "Number of students who recived gades of 75 o higher: 63\n",
      "The percentage of students who recived grades higher than  but not higher than 85: 61.25%\n",
      "The grades tha did not appear at all: [ 52  54  55  56  58  64  70  91  92  98  99 100]\n"
     ]
    }
   ],
   "source": [
    "# 1\n",
    "print(f\"The highest grade: {M.max()}\")\n",
    "# 2\n",
    "print(f\"The lowest grade: {M.min()}\")\n",
    "# 3\n",
    "print(f\"Rage: {M.max()-M.min()}\")\n",
    "M.sort()\n",
    "# 4\n",
    "print(f\"Grades of 5 higest-ranking students: {M[-5:]}\")\n",
    "# 5\n",
    "print(f\"Grades of 5 lowest-ranking students: {M[0:5]}\")\n",
    "# 6\n",
    "print(f\"The grade of student ranking tenth-highest: {M[-10]}\")\n",
    "# 7\n",
    "print(f\"Number of students who recived gades of 75 o higher: {len(M[M>=75])}\")\n",
    "# 8\n",
    "print(f\"Number of students who recived gades of 75 o higher: {len(M[M<85])}\")\n",
    "# 9\n",
    "print(f\"The percentage of students who recived grades higher than  but not higher than 85: {len(np.where((M>=65) & (M<85))[0])*100/len(M)}%\")\n",
    "# 10\n",
    "grades = np.arange(52,101)\n",
    "print(f\"The grades tha did not appear at all: {grades[~np.isin(grades, M)]}\")"
   ]
  },
  {
   "cell_type": "markdown",
   "metadata": {},
   "source": [
    "Пример 1.5. Даны недельные зарплаты 65 сотрудников P&R Company. Определить: <br>\n",
    "1. Нижнюю границу 6-го класса\n",
    "2. Верхнюю границу 4-го класса\n",
    "3. Середнину (class mark) 3-го класса\n",
    "4. Верхнюю, нижнюю границы 5-го класса\n",
    "5. Размер интервала (size of interval) 5-го класса.\n",
    "6. Частоту 3-го класса.\n",
    "7. Относительную частоту 3-го класса.\n",
    "8. Интервал класса с ниабольшей частотой (modal class interval).\n",
    "9. Процент работников, зарабатывабщих меньше 280\\$ в неделю.\n",
    "10. Процент работников, зарабатывабщих меньше 300\\$, но больше 260\\$ в неделю."
   ]
  },
  {
   "cell_type": "markdown",
   "metadata": {},
   "source": [
    "<div style=\"text-align: right\"> 2, pr 2.3 </div>"
   ]
  },
  {
   "cell_type": "code",
   "execution_count": 38,
   "metadata": {},
   "outputs": [],
   "source": [
    "def get_intervals(start:float,end:float,b:float,step=None)->List[pd.Interval]:\n",
    "    if step is None:\n",
    "        step = np.around(b,1)\n",
    "    return [pd.Interval(left=round(x,3), right=round(x+b,3), closed=\"both\") for x in np.arange(start,end,step)]"
   ]
  },
  {
   "cell_type": "code",
   "execution_count": 39,
   "metadata": {},
   "outputs": [],
   "source": [
    "def class_bnd(df,n:int,bnd=\"low\"):\n",
    "    \"\"\"\n",
    "    rerurn lower or upper class boundary\n",
    "    df: pd.DataFrame/list pd.Interval - groupped table\n",
    "    n: nth class\n",
    "    bnd: low,up for lower and upper boundary\n",
    "    \"\"\"\n",
    "    if isinstance(df,pd.DataFrame):\n",
    "        if n == 0 and bnd==\"low\":\n",
    "            return df.iloc[0].left - 0.5*np.around(df.iloc[1].left-df.iloc[0].right,2)\n",
    "        elif n == len(df)-1 and bnd==\"up\":\n",
    "            return df.iloc[n].right + 0.5*np.around(df.iloc[n].left-df.iloc[n-1].right,2)\n",
    "        if bnd==\"low\":\n",
    "            return 0.5*(df.iloc[n].name.left+df.iloc[n-1].name.right)\n",
    "        elif bnd==\"up\":\n",
    "            return 0.5*(df.iloc[n].name.right+df.iloc[n+1].name.left)\n",
    "        else:\n",
    "            raise Exception(\"Unknown class boundary\")\n",
    "    elif isinstance(df,list) and (len(df)) and isinstance(df[0], pd.Interval):\n",
    "        if n == 0 and bnd==\"low\":\n",
    "            return df[0].left - 0.5*np.around(df[1].left-df[0].right,2)\n",
    "        elif n == len(df)-1 and bnd==\"up\":\n",
    "            return df[n].right + 0.5*np.around(df[n].left-df[n-1].right,2)\n",
    "        elif bnd==\"low\":\n",
    "            return 0.5*(df[n].left+df[n-1].right)\n",
    "        elif bnd==\"up\":\n",
    "            return 0.5*(df[n].right+df[n+1].left)\n",
    "        else:\n",
    "            raise Exception(\"Unknown class boundary\")\n",
    "    else:\n",
    "        raise Exception(\"Unknown class boundary\")\n",
    "    raise Exception(\"df must be pd.DataFrame or list of pd.Interval\")"
   ]
  },
  {
   "cell_type": "code",
   "execution_count": 40,
   "metadata": {},
   "outputs": [],
   "source": [
    "def index_range(df, start, stop):\n",
    "    return [i for i in df.index if i.left>=start and i.right<stop]"
   ]
  },
  {
   "cell_type": "code",
   "execution_count": 41,
   "metadata": {},
   "outputs": [],
   "source": [
    "b = 9.99\n",
    "start = 250\n",
    "end = 320\n",
    "df = pd.DataFrame([8,10,16,14,10,5,2], columns=['Number of Emoyees'], index=get_intervals(start,end,b))\n",
    "df.index.name = \"Wages\""
   ]
  },
  {
   "cell_type": "code",
   "execution_count": 42,
   "metadata": {},
   "outputs": [
    {
     "data": {
      "text/html": [
       "<div>\n",
       "<style scoped>\n",
       "    .dataframe tbody tr th:only-of-type {\n",
       "        vertical-align: middle;\n",
       "    }\n",
       "\n",
       "    .dataframe tbody tr th {\n",
       "        vertical-align: top;\n",
       "    }\n",
       "\n",
       "    .dataframe thead th {\n",
       "        text-align: right;\n",
       "    }\n",
       "</style>\n",
       "<table border=\"1\" class=\"dataframe\">\n",
       "  <thead>\n",
       "    <tr style=\"text-align: right;\">\n",
       "      <th></th>\n",
       "      <th>Number of Emoyees</th>\n",
       "    </tr>\n",
       "    <tr>\n",
       "      <th>Wages</th>\n",
       "      <th></th>\n",
       "    </tr>\n",
       "  </thead>\n",
       "  <tbody>\n",
       "    <tr>\n",
       "      <th>[250.0, 259.99]</th>\n",
       "      <td>8</td>\n",
       "    </tr>\n",
       "    <tr>\n",
       "      <th>[260.0, 269.99]</th>\n",
       "      <td>10</td>\n",
       "    </tr>\n",
       "    <tr>\n",
       "      <th>[270.0, 279.99]</th>\n",
       "      <td>16</td>\n",
       "    </tr>\n",
       "    <tr>\n",
       "      <th>[280.0, 289.99]</th>\n",
       "      <td>14</td>\n",
       "    </tr>\n",
       "    <tr>\n",
       "      <th>[290.0, 299.99]</th>\n",
       "      <td>10</td>\n",
       "    </tr>\n",
       "    <tr>\n",
       "      <th>[300.0, 309.99]</th>\n",
       "      <td>5</td>\n",
       "    </tr>\n",
       "    <tr>\n",
       "      <th>[310.0, 319.99]</th>\n",
       "      <td>2</td>\n",
       "    </tr>\n",
       "  </tbody>\n",
       "</table>\n",
       "</div>"
      ],
      "text/plain": [
       "                 Number of Emoyees\n",
       "Wages                             \n",
       "[250.0, 259.99]                  8\n",
       "[260.0, 269.99]                 10\n",
       "[270.0, 279.99]                 16\n",
       "[280.0, 289.99]                 14\n",
       "[290.0, 299.99]                 10\n",
       "[300.0, 309.99]                  5\n",
       "[310.0, 319.99]                  2"
      ]
     },
     "execution_count": 42,
     "metadata": {},
     "output_type": "execute_result"
    }
   ],
   "source": [
    "df"
   ]
  },
  {
   "cell_type": "code",
   "execution_count": 43,
   "metadata": {},
   "outputs": [],
   "source": [
    "# На вопрос 10 можно ответить с помощью \n",
    "# https://stackoverflow.com/questions/52428109/is-it-possible-to-query-pandas-intervalindex-with-intervals \n",
    "# но в pandas 1.0.3. пример не работает"
   ]
  },
  {
   "cell_type": "code",
   "execution_count": 44,
   "metadata": {},
   "outputs": [],
   "source": [
    "a = df.iloc[5].name.left\n",
    "b = df.iloc[3].name.right\n",
    "c = df.iloc[2].name.mid\n",
    "d1 = class_bnd(df,4,bnd='low')\n",
    "d2 = class_bnd(df,4,bnd='up')\n",
    "e = class_bnd(df,5,bnd='up')-class_bnd(df,5,bnd='low')\n",
    "f = df.iloc[2]['Number of Emoyees']\n",
    "g = df.iloc[2]['Number of Emoyees']/df['Number of Emoyees'].sum()\n",
    "h = df[df['Number of Emoyees']==df['Number of Emoyees'].max()].index.values[0]\n",
    "i = df.loc[index_range(df,0,280)]['Number of Emoyees'].sum()/df['Number of Emoyees'].sum()\n",
    "j = df.loc[index_range(df,260,300)]['Number of Emoyees'].sum()/df['Number of Emoyees'].sum()"
   ]
  },
  {
   "cell_type": "code",
   "execution_count": 45,
   "metadata": {},
   "outputs": [
    {
     "name": "stdout",
     "output_type": "stream",
     "text": [
      "The lower limit of the sixth class: 300.0$\n",
      "The upper limit of the fourth class: 289.99$\n",
      "The class mark of the third class: 274.995$\n",
      "Lower class boundaries of the fifth class: 289.995$\n",
      "Upper class boundaries of the fifth class: 299.995$\n",
      "Size of fifth-class interval: 10.0$\n",
      "The frequeny of the third class: 16\n",
      "The reletive frequeny of the third class: 0.246\n",
      "The class inerval having the lages frequency (modal class interval): [270.0, 279.99]\n",
      "The percentage of employees earning less than 280$ per week: 0.523\n",
      "The percentage of employees earning less than 300$ per week but at least 260$ per week: 0.769\n"
     ]
    }
   ],
   "source": [
    "# 1\n",
    "print(f\"The lower limit of the sixth class: {a}$\")\n",
    "# 2\n",
    "print(f\"The upper limit of the fourth class: {b}$\")\n",
    "# 3\n",
    "print(f\"The class mark of the third class: {c}$\")\n",
    "# 4\n",
    "print(f\"Lower class boundaries of the fifth class: {d1}$\")\n",
    "print(f\"Upper class boundaries of the fifth class: {d2}$\")     \n",
    "# 5\n",
    "print(f\"Size of fifth-class interval: {e}$\")\n",
    "# 6\n",
    "print(f\"The frequeny of the third class: {f}\")\n",
    "# 7\n",
    "print(f\"The reletive frequeny of the third class: {g:.3f}\")\n",
    "# 8\n",
    "print(f\"The class inerval having the lages frequency (modal class interval): {h}\")\n",
    "# 9\n",
    "print(f\"The percentage of employees earning less than 280$ per week: {i:.3f}\")\n",
    "# 10\n",
    "print(f\"The percentage of employees earning less than 300$ per week but at least 260$ per week: {j:.3f}\")"
   ]
  },
  {
   "cell_type": "markdown",
   "metadata": {},
   "source": [
    "Пример 1.6. Даны середины интервалов. Определить: <br>\n",
    "1. Интервал класса.\n",
    "2. Границы классов (boundaries).\n",
    "3. Границы классов (class limits)."
   ]
  },
  {
   "cell_type": "markdown",
   "metadata": {},
   "source": [
    "<div style=\"text-align: right\"> 2, pr 2.4 </div>"
   ]
  },
  {
   "cell_type": "code",
   "execution_count": 46,
   "metadata": {},
   "outputs": [],
   "source": [
    "mid_points = np.array([128,137,146,155,164,173,182])"
   ]
  },
  {
   "cell_type": "code",
   "execution_count": 47,
   "metadata": {},
   "outputs": [
    {
     "name": "stdout",
     "output_type": "stream",
     "text": [
      "Class-interval size: 9.0\n"
     ]
    }
   ],
   "source": [
    "cls_size = np.mean(mid_points[1:] - mid_points[:-1])\n",
    "print(f\"Class-interval size: {cls_size}\")"
   ]
  },
  {
   "cell_type": "code",
   "execution_count": 48,
   "metadata": {},
   "outputs": [
    {
     "name": "stdout",
     "output_type": "stream",
     "text": [
      "Class-boundaries: [132.5 141.5 150.5 159.5 168.5 177.5]\n"
     ]
    }
   ],
   "source": [
    "print(f\"Class-boundaries: {0.5*(mid_points[1:] + mid_points[:-1])}\")"
   ]
  },
  {
   "cell_type": "code",
   "execution_count": 49,
   "metadata": {},
   "outputs": [
    {
     "name": "stdout",
     "output_type": "stream",
     "text": [
      "Class-limits: [(124.0, 132.0), (133.0, 141.0), (142.0, 150.0), (151.0, 159.0), (160.0, 168.0), (169.0, 177.0), (178.0, 186.0)]\n"
     ]
    }
   ],
   "source": [
    "step_size = cls_size/2\n",
    "intervals = [(np.ceil(mid-step_size), np.floor(mid+step_size)) for mid in mid_points]\n",
    "print(f\"Class-limits: {intervals}\")"
   ]
  },
  {
   "cell_type": "markdown",
   "metadata": {},
   "source": [
    "Пример 1.7. Наименьшее значение измерения 5.18, наибольшее - 7.44. Определить: <br>\n",
    "1. Наиболее подходящий интервал класса.\n",
    "2. Границы классов (boundaries).\n",
    "3. Середины интервалов (class marks)."
   ]
  },
  {
   "cell_type": "markdown",
   "metadata": {},
   "source": [
    "<div style=\"text-align: right\"> 2, pr 2.6 </div>"
   ]
  },
  {
   "cell_type": "code",
   "execution_count": 50,
   "metadata": {},
   "outputs": [],
   "source": [
    "# Размах\n",
    "a,b = 5.18, 7.44\n",
    "w = b-a"
   ]
  },
  {
   "cell_type": "code",
   "execution_count": 51,
   "metadata": {},
   "outputs": [],
   "source": [
    "s1 = round(w/5,2)\n",
    "s2 = round(w/20,2)"
   ]
  },
  {
   "cell_type": "code",
   "execution_count": 52,
   "metadata": {},
   "outputs": [
    {
     "data": {
      "text/plain": [
       "0.45"
      ]
     },
     "execution_count": 52,
     "metadata": {},
     "output_type": "execute_result"
    }
   ],
   "source": [
    "s1"
   ]
  },
  {
   "cell_type": "code",
   "execution_count": 53,
   "metadata": {},
   "outputs": [
    {
     "data": {
      "text/plain": [
       "0.11"
      ]
     },
     "execution_count": 53,
     "metadata": {},
     "output_type": "execute_result"
    }
   ],
   "source": [
    "s2"
   ]
  },
  {
   "cell_type": "code",
   "execution_count": 54,
   "metadata": {},
   "outputs": [],
   "source": [
    "class_size = [0.2,0.3,0.4]"
   ]
  },
  {
   "cell_type": "code",
   "execution_count": 55,
   "metadata": {},
   "outputs": [],
   "source": [
    "# Интервалы могут быть заданы через class_size\n",
    "intervals = [get_intervals(5.1,7.49,s-0.01) for s in class_size]"
   ]
  },
  {
   "cell_type": "code",
   "execution_count": 56,
   "metadata": {},
   "outputs": [
    {
     "data": {
      "text/plain": [
       "[Interval(5.1, 5.29, closed='both'),\n",
       " Interval(5.3, 5.49, closed='both'),\n",
       " Interval(5.5, 5.69, closed='both'),\n",
       " Interval(5.7, 5.89, closed='both'),\n",
       " Interval(5.9, 6.09, closed='both'),\n",
       " Interval(6.1, 6.29, closed='both'),\n",
       " Interval(6.3, 6.49, closed='both'),\n",
       " Interval(6.5, 6.69, closed='both'),\n",
       " Interval(6.7, 6.89, closed='both'),\n",
       " Interval(6.9, 7.09, closed='both'),\n",
       " Interval(7.1, 7.29, closed='both'),\n",
       " Interval(7.3, 7.49, closed='both')]"
      ]
     },
     "execution_count": 56,
     "metadata": {},
     "output_type": "execute_result"
    }
   ],
   "source": [
    "intervals[0]"
   ]
  },
  {
   "cell_type": "code",
   "execution_count": 57,
   "metadata": {},
   "outputs": [
    {
     "data": {
      "text/plain": [
       "[Interval(5.1, 5.39, closed='both'),\n",
       " Interval(5.4, 5.69, closed='both'),\n",
       " Interval(5.7, 5.99, closed='both'),\n",
       " Interval(6.0, 6.29, closed='both'),\n",
       " Interval(6.3, 6.59, closed='both'),\n",
       " Interval(6.6, 6.89, closed='both'),\n",
       " Interval(6.9, 7.19, closed='both'),\n",
       " Interval(7.2, 7.49, closed='both')]"
      ]
     },
     "execution_count": 57,
     "metadata": {},
     "output_type": "execute_result"
    }
   ],
   "source": [
    "intervals[1]"
   ]
  },
  {
   "cell_type": "code",
   "execution_count": 58,
   "metadata": {},
   "outputs": [
    {
     "data": {
      "text/plain": [
       "[Interval(5.1, 5.49, closed='both'),\n",
       " Interval(5.5, 5.89, closed='both'),\n",
       " Interval(5.9, 6.29, closed='both'),\n",
       " Interval(6.3, 6.69, closed='both'),\n",
       " Interval(6.7, 7.09, closed='both'),\n",
       " Interval(7.1, 7.49, closed='both')]"
      ]
     },
     "execution_count": 58,
     "metadata": {},
     "output_type": "execute_result"
    }
   ],
   "source": [
    "intervals[2]"
   ]
  },
  {
   "cell_type": "code",
   "execution_count": 59,
   "metadata": {},
   "outputs": [],
   "source": [
    "# Границы интервалов и середины классов\n",
    "bounds = []\n",
    "mid_points = []\n",
    "for interval in intervals:\n",
    "    bound = [(class_bnd(interval,i,'low'), class_bnd(interval,i,'up')) for i in range(len(interval))]\n",
    "    bounds.append(bound)\n",
    "    mid_points.append([round(0.5*(b[1]+b[0]),3) for b in bound])"
   ]
  },
  {
   "cell_type": "code",
   "execution_count": 60,
   "metadata": {},
   "outputs": [
    {
     "data": {
      "text/plain": [
       "[[(5.095, 5.295),\n",
       "  (5.295, 5.495),\n",
       "  (5.495, 5.695),\n",
       "  (5.695, 5.895),\n",
       "  (5.895, 6.095),\n",
       "  (6.095, 6.295),\n",
       "  (6.295, 6.495),\n",
       "  (6.495, 6.695),\n",
       "  (6.695, 6.895),\n",
       "  (6.895, 7.095),\n",
       "  (7.095, 7.295),\n",
       "  (7.295, 7.495)],\n",
       " [(5.095, 5.395),\n",
       "  (5.395, 5.695),\n",
       "  (5.695, 5.995),\n",
       "  (5.995, 6.295),\n",
       "  (6.295, 6.595),\n",
       "  (6.595, 6.895),\n",
       "  (6.895, 7.195),\n",
       "  (7.195, 7.495)],\n",
       " [(5.095, 5.495),\n",
       "  (5.495, 5.895),\n",
       "  (5.895, 6.295),\n",
       "  (6.295, 6.695),\n",
       "  (6.695, 7.095),\n",
       "  (7.095, 7.495)]]"
      ]
     },
     "execution_count": 60,
     "metadata": {},
     "output_type": "execute_result"
    }
   ],
   "source": [
    "bounds"
   ]
  },
  {
   "cell_type": "code",
   "execution_count": 61,
   "metadata": {},
   "outputs": [
    {
     "data": {
      "text/plain": [
       "[[5.195,\n",
       "  5.395,\n",
       "  5.595,\n",
       "  5.795,\n",
       "  5.995,\n",
       "  6.195,\n",
       "  6.395,\n",
       "  6.595,\n",
       "  6.795,\n",
       "  6.995,\n",
       "  7.195,\n",
       "  7.395],\n",
       " [5.245, 5.545, 5.845, 6.145, 6.445, 6.745, 7.045, 7.345],\n",
       " [5.295, 5.695, 6.095, 6.495, 6.895, 7.295]]"
      ]
     },
     "execution_count": 61,
     "metadata": {},
     "output_type": "execute_result"
    }
   ],
   "source": [
    "mid_points"
   ]
  },
  {
   "cell_type": "code",
   "execution_count": null,
   "metadata": {},
   "outputs": [],
   "source": []
  }
 ],
 "metadata": {
  "kernelspec": {
   "display_name": "ml",
   "language": "python",
   "name": "ml"
  },
  "language_info": {
   "codemirror_mode": {
    "name": "ipython",
    "version": 3
   },
   "file_extension": ".py",
   "mimetype": "text/x-python",
   "name": "python",
   "nbconvert_exporter": "python",
   "pygments_lexer": "ipython3",
   "version": "3.7.5"
  }
 },
 "nbformat": 4,
 "nbformat_minor": 2
}
