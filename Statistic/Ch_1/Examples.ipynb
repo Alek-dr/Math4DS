{
 "cells": [
  {
   "cell_type": "code",
   "execution_count": 49,
   "metadata": {},
   "outputs": [],
   "source": [
    "import numpy as np\n",
    "import pandas as pd\n",
    "from scipy.stats import mode\n",
    "from statsmodels.distributions.empirical_distribution import ECDF\n",
    "from collections import Counter\n",
    "import matplotlib.pyplot as plt"
   ]
  },
  {
   "cell_type": "markdown",
   "metadata": {},
   "source": [
    "#### Воспроизведем примеры из Сборника задач по математике т.4 под редакцией А.В.Ефимова и А.С.Попелова. Все определения взяты также из данного сборника задач."
   ]
  },
  {
   "cell_type": "markdown",
   "metadata": {},
   "source": [
    "#### Глава 19. Математическая статистика"
   ]
  },
  {
   "cell_type": "markdown",
   "metadata": {},
   "source": [
    "<p style=\"text-align: center\"> <b>  §1. Методы статистического описания результатов </b> </p>"
   ]
  },
  {
   "cell_type": "markdown",
   "metadata": {},
   "source": [
    "#### 1. Выборка и способы ее представления\n",
    "Пример 1. Записать в виде вариационного и статистического рядов выборку 5,3,7,10,5,5,2,10,7,2,7,7,4,2,4. Определить размах выборки."
   ]
  },
  {
   "cell_type": "markdown",
   "metadata": {},
   "source": [
    "*Вариационным рядом выборки* $x_{1},x_{2},...,x_{n}$ называется способ её представления, при котором элементы упорядочиваются по её величине, т.е. записываются в виде последовательности $x^{(1)},x^{(2)},...,x^{(n)}$, где $x^{(1)} \\leq x^{(2)} \\leq...\\leq x^{(n)}$. Разность между максимальным и минимальным элементами выборки $x^{(n)}-x^{(1)}=\\omega$ называется *размахом* выборки.<br>\n",
    "*Статистическим рядом* называется последовательность пар ($z_{i},n_{i}$). Обычно, статистический рад записывается в виде таблицы, первая строка которой содержит элементы $z_{i}$, а вторая - их частоты."
   ]
  },
  {
   "cell_type": "code",
   "execution_count": 50,
   "metadata": {},
   "outputs": [],
   "source": [
    "Arr = np.array([5,3,7,10,5,5,2,10,7,2,7,7,4,2,4])"
   ]
  },
  {
   "cell_type": "markdown",
   "metadata": {},
   "source": [
    "В Python есть несколько библиотек, необходимых для решения подобных задач. В зависимотси от конкретной задачи, целесообразно использовать одну из них: <br>\n",
    "$\\textbf{numpy}$ - пожалуй, основная библиотека для работы с числовыми данными в python. Написана на C и оптимизирована для работы с многомерными массивами, что обеспечивает достаточно высокое быстродействие; <br>\n",
    "$\\textbf{pandas}$ - преднанзначена для задач аналитики. Позволят строить красивые таблицы, использовать SQL подобные операции. Pandas написана поверх numpy на python и, как следствие, имеет более низкую производительность; <br>\n",
    "Раз уж мы решаем задачи статистики, стоит упомянуть $\\textbf{statsmodels}$  - реализация статистических моделей. Написана поверх numpy и scipy. Результаты работы в statsmodels похожи на аналогичные вычисления в языке R; <br>\n",
    "$\\textbf{scipy}$ - библиотека всевозможных научных расчетов. Написана на Python,С,С++."
   ]
  },
  {
   "cell_type": "code",
   "execution_count": 51,
   "metadata": {},
   "outputs": [],
   "source": [
    "# Решение с помощью numpy"
   ]
  },
  {
   "cell_type": "code",
   "execution_count": 52,
   "metadata": {},
   "outputs": [],
   "source": [
    "# Размах\n",
    "w = Arr.max() - Arr.min()"
   ]
  },
  {
   "cell_type": "code",
   "execution_count": 53,
   "metadata": {},
   "outputs": [],
   "source": [
    "# Вариационный ряд\n",
    "# sort - остортирует элементы в порядке возрастания, т.е. получим вариационный ряд\n",
    "Arr.sort()"
   ]
  },
  {
   "cell_type": "code",
   "execution_count": 54,
   "metadata": {},
   "outputs": [
    {
     "data": {
      "text/plain": [
       "array([ 2,  2,  2,  3,  4,  4,  5,  5,  5,  7,  7,  7,  7, 10, 10])"
      ]
     },
     "execution_count": 54,
     "metadata": {},
     "output_type": "execute_result"
    }
   ],
   "source": [
    "Arr"
   ]
  },
  {
   "cell_type": "code",
   "execution_count": 55,
   "metadata": {},
   "outputs": [],
   "source": [
    "# Статистический ряд\n",
    "# z - уникальные числа, n - частоты\n",
    "z,n = np.unique(Arr, return_counts=True)\n",
    "S = np.vstack((z,n))"
   ]
  },
  {
   "cell_type": "code",
   "execution_count": 56,
   "metadata": {},
   "outputs": [
    {
     "data": {
      "text/plain": [
       "array([[ 2,  3,  4,  5,  7, 10],\n",
       "       [ 3,  1,  2,  3,  4,  2]])"
      ]
     },
     "execution_count": 56,
     "metadata": {},
     "output_type": "execute_result"
    }
   ],
   "source": [
    "S"
   ]
  },
  {
   "cell_type": "markdown",
   "metadata": {},
   "source": [
    "Проверим, что $$\\sum_{n=1}^{k}n_{i}=n,$$ где k-число различных чисел в выборке."
   ]
  },
  {
   "cell_type": "code",
   "execution_count": 57,
   "metadata": {},
   "outputs": [
    {
     "data": {
      "text/plain": [
       "True"
      ]
     },
     "execution_count": 57,
     "metadata": {},
     "output_type": "execute_result"
    }
   ],
   "source": [
    "n.sum() == len(Arr)"
   ]
  },
  {
   "cell_type": "code",
   "execution_count": 58,
   "metadata": {},
   "outputs": [],
   "source": [
    "# Решим то же самое и сипользованием pandas"
   ]
  },
  {
   "cell_type": "code",
   "execution_count": 59,
   "metadata": {},
   "outputs": [],
   "source": [
    "df = pd.DataFrame(Arr, columns=['x'])"
   ]
  },
  {
   "cell_type": "code",
   "execution_count": 60,
   "metadata": {},
   "outputs": [],
   "source": [
    "w = df.x.max() - df.x.min()"
   ]
  },
  {
   "cell_type": "code",
   "execution_count": 61,
   "metadata": {},
   "outputs": [
    {
     "data": {
      "text/plain": [
       "array([ 2,  2,  2,  3,  4,  4,  5,  5,  5,  7,  7,  7,  7, 10, 10])"
      ]
     },
     "execution_count": 61,
     "metadata": {},
     "output_type": "execute_result"
    }
   ],
   "source": [
    "df.x.sort_values().values"
   ]
  },
  {
   "cell_type": "code",
   "execution_count": 62,
   "metadata": {},
   "outputs": [],
   "source": [
    "s = df.x.value_counts().sort_index()"
   ]
  },
  {
   "cell_type": "code",
   "execution_count": 63,
   "metadata": {},
   "outputs": [],
   "source": [
    "s = pd.DataFrame({\"z\": s.index.values, \"n\":s.values})"
   ]
  },
  {
   "cell_type": "code",
   "execution_count": 64,
   "metadata": {},
   "outputs": [
    {
     "data": {
      "text/html": [
       "<div>\n",
       "<style scoped>\n",
       "    .dataframe tbody tr th:only-of-type {\n",
       "        vertical-align: middle;\n",
       "    }\n",
       "\n",
       "    .dataframe tbody tr th {\n",
       "        vertical-align: top;\n",
       "    }\n",
       "\n",
       "    .dataframe thead th {\n",
       "        text-align: right;\n",
       "    }\n",
       "</style>\n",
       "<table border=\"1\" class=\"dataframe\">\n",
       "  <thead>\n",
       "    <tr style=\"text-align: right;\">\n",
       "      <th></th>\n",
       "      <th>z</th>\n",
       "      <th>n</th>\n",
       "    </tr>\n",
       "  </thead>\n",
       "  <tbody>\n",
       "    <tr>\n",
       "      <th>0</th>\n",
       "      <td>2</td>\n",
       "      <td>3</td>\n",
       "    </tr>\n",
       "    <tr>\n",
       "      <th>1</th>\n",
       "      <td>3</td>\n",
       "      <td>1</td>\n",
       "    </tr>\n",
       "    <tr>\n",
       "      <th>2</th>\n",
       "      <td>4</td>\n",
       "      <td>2</td>\n",
       "    </tr>\n",
       "    <tr>\n",
       "      <th>3</th>\n",
       "      <td>5</td>\n",
       "      <td>3</td>\n",
       "    </tr>\n",
       "    <tr>\n",
       "      <th>4</th>\n",
       "      <td>7</td>\n",
       "      <td>4</td>\n",
       "    </tr>\n",
       "    <tr>\n",
       "      <th>5</th>\n",
       "      <td>10</td>\n",
       "      <td>2</td>\n",
       "    </tr>\n",
       "  </tbody>\n",
       "</table>\n",
       "</div>"
      ],
      "text/plain": [
       "    z  n\n",
       "0   2  3\n",
       "1   3  1\n",
       "2   4  2\n",
       "3   5  3\n",
       "4   7  4\n",
       "5  10  2"
      ]
     },
     "execution_count": 64,
     "metadata": {},
     "output_type": "execute_result"
    }
   ],
   "source": [
    "s"
   ]
  },
  {
   "cell_type": "code",
   "execution_count": 65,
   "metadata": {},
   "outputs": [
    {
     "data": {
      "text/html": [
       "<style  type=\"text/css\" >\n",
       "</style><table id=\"T_bd3c6d4c_66c7_11ea_a297_e0d55e416cde\" ><thead>    <tr>        <th class=\"col_heading level0 col0\" >z</th>        <th class=\"col_heading level0 col1\" >n</th>    </tr></thead><tbody>\n",
       "                <tr>\n",
       "                                <td id=\"T_bd3c6d4c_66c7_11ea_a297_e0d55e416cderow0_col0\" class=\"data row0 col0\" >2</td>\n",
       "                        <td id=\"T_bd3c6d4c_66c7_11ea_a297_e0d55e416cderow0_col1\" class=\"data row0 col1\" >3</td>\n",
       "            </tr>\n",
       "            <tr>\n",
       "                                <td id=\"T_bd3c6d4c_66c7_11ea_a297_e0d55e416cderow1_col0\" class=\"data row1 col0\" >3</td>\n",
       "                        <td id=\"T_bd3c6d4c_66c7_11ea_a297_e0d55e416cderow1_col1\" class=\"data row1 col1\" >1</td>\n",
       "            </tr>\n",
       "            <tr>\n",
       "                                <td id=\"T_bd3c6d4c_66c7_11ea_a297_e0d55e416cderow2_col0\" class=\"data row2 col0\" >4</td>\n",
       "                        <td id=\"T_bd3c6d4c_66c7_11ea_a297_e0d55e416cderow2_col1\" class=\"data row2 col1\" >2</td>\n",
       "            </tr>\n",
       "            <tr>\n",
       "                                <td id=\"T_bd3c6d4c_66c7_11ea_a297_e0d55e416cderow3_col0\" class=\"data row3 col0\" >5</td>\n",
       "                        <td id=\"T_bd3c6d4c_66c7_11ea_a297_e0d55e416cderow3_col1\" class=\"data row3 col1\" >3</td>\n",
       "            </tr>\n",
       "            <tr>\n",
       "                                <td id=\"T_bd3c6d4c_66c7_11ea_a297_e0d55e416cderow4_col0\" class=\"data row4 col0\" >7</td>\n",
       "                        <td id=\"T_bd3c6d4c_66c7_11ea_a297_e0d55e416cderow4_col1\" class=\"data row4 col1\" >4</td>\n",
       "            </tr>\n",
       "            <tr>\n",
       "                                <td id=\"T_bd3c6d4c_66c7_11ea_a297_e0d55e416cderow5_col0\" class=\"data row5 col0\" >10</td>\n",
       "                        <td id=\"T_bd3c6d4c_66c7_11ea_a297_e0d55e416cderow5_col1\" class=\"data row5 col1\" >2</td>\n",
       "            </tr>\n",
       "    </tbody></table>"
      ],
      "text/plain": [
       "<pandas.io.formats.style.Styler at 0x7fc2a0a2a6d0>"
      ]
     },
     "execution_count": 65,
     "metadata": {},
     "output_type": "execute_result"
    }
   ],
   "source": [
    "s.style.hide_index()"
   ]
  },
  {
   "cell_type": "code",
   "execution_count": 66,
   "metadata": {},
   "outputs": [
    {
     "data": {
      "text/html": [
       "<div>\n",
       "<style scoped>\n",
       "    .dataframe tbody tr th:only-of-type {\n",
       "        vertical-align: middle;\n",
       "    }\n",
       "\n",
       "    .dataframe tbody tr th {\n",
       "        vertical-align: top;\n",
       "    }\n",
       "\n",
       "    .dataframe thead th {\n",
       "        text-align: right;\n",
       "    }\n",
       "</style>\n",
       "<table border=\"1\" class=\"dataframe\">\n",
       "  <thead>\n",
       "    <tr style=\"text-align: right;\">\n",
       "      <th></th>\n",
       "      <th>0</th>\n",
       "      <th>1</th>\n",
       "      <th>2</th>\n",
       "      <th>3</th>\n",
       "      <th>4</th>\n",
       "      <th>5</th>\n",
       "    </tr>\n",
       "  </thead>\n",
       "  <tbody>\n",
       "    <tr>\n",
       "      <th>z</th>\n",
       "      <td>2</td>\n",
       "      <td>3</td>\n",
       "      <td>4</td>\n",
       "      <td>5</td>\n",
       "      <td>7</td>\n",
       "      <td>10</td>\n",
       "    </tr>\n",
       "    <tr>\n",
       "      <th>n</th>\n",
       "      <td>3</td>\n",
       "      <td>1</td>\n",
       "      <td>2</td>\n",
       "      <td>3</td>\n",
       "      <td>4</td>\n",
       "      <td>2</td>\n",
       "    </tr>\n",
       "  </tbody>\n",
       "</table>\n",
       "</div>"
      ],
      "text/plain": [
       "   0  1  2  3  4   5\n",
       "z  2  3  4  5  7  10\n",
       "n  3  1  2  3  4   2"
      ]
     },
     "execution_count": 66,
     "metadata": {},
     "output_type": "execute_result"
    }
   ],
   "source": [
    "s.T"
   ]
  },
  {
   "cell_type": "markdown",
   "metadata": {},
   "source": [
    "Пример 2. Представить выборку из 55 наблюдений в виде таблицы частот, используя 7 нтервалов группировки. Выборока:\n",
    "<p style=\"text-align: center\"> \n",
    "              20.3, 15.4, 17.2, 19.2, 23.3, 18.1, 21.9,<br>\n",
    "              15.3, 16.8, 13.2, 20.4, 16.5, 19.7, 20.5,<br>\n",
    "              14.3, 20.1, 16.8, 14.7, 20.8, 19.5, 15.3,<br>\n",
    "              19.3, 17.8, 16.2, 15.7, 22.8, 21.9, 12.5,<br>\n",
    "              10.1, 21.1, 18.3, 14.7, 14.5, 18.1, 18.4,<br>\n",
    "              13.9, 19.1, 18.5, 20.2, 23.8, 16.7, 20.4,<br>\n",
    "              19.5, 17.2, 19.6, 17.8, 21.3, 17.5, 19.4,<br>\n",
    "              17.8, 13.5, 17.8, 11.8, 18.6, 19.1 </p>"
   ]
  },
  {
   "cell_type": "markdown",
   "metadata": {},
   "source": [
    "При большом объеме выборки её элементы объединяют в гурпы (разряды), представляя результаты опытов в виде  $\\textit{группированого статистического ряда}$. Для этого интервал, содержащий все элементы выборки, разбивается на k интервалов. Инервалы имеют длину *b*$\\approx$$\\frac{\\omega}{k}$. После того, как частичные интервалы выбраны, определяют частоты - количество $n_{i}$ элементов выборки, попавших в i-й интервал. Полученный статистический ряд в верхней строке содержит середины $z_{i}$ интервалов группировки, а в нижней частоты $n_{i}$ (i=1,2,...,k).<br>\n",
    "Наряду с частотами одновременно подсчитываются также накопленные частоты  $\\sum_{j=1}^{i}n_{j}$, относительные частоты $\\frac{n_{i}}{n}$. Полученные результаты сводятся в таблицу, называемую *таблицей частот группированной выборки*."
   ]
  },
  {
   "cell_type": "markdown",
   "metadata": {},
   "source": [
    "Сразу отметим, что в книге есть опечатка, и количество элементов на интервале 18-20 и 20-22 отличается на 1. Будем использовать приведенную выборку, но графики будут слегка отличаться от приведенных в книге."
   ]
  },
  {
   "cell_type": "code",
   "execution_count": 67,
   "metadata": {},
   "outputs": [],
   "source": [
    "# Решать эту задачу на numpy нет особого смысла, т.к. группированный статистический ряд \n",
    "# предназначен для анализа человеком, чтоб на него посмотреть глазами. А это типичная задача pandas."
   ]
  },
  {
   "cell_type": "code",
   "execution_count": 68,
   "metadata": {},
   "outputs": [],
   "source": [
    "M = np.array([20.3, 15.4, 17.2, 19.2, 23.3, 18.1, 21.9,\n",
    "              15.3, 16.8, 13.2, 20.4, 16.5, 19.7, 20.5,\n",
    "              14.3, 20.1, 16.8, 14.7, 20.8, 19.5, 15.3,\n",
    "              19.3, 17.8, 16.2, 15.7, 22.8, 21.9, 12.5,\n",
    "              10.1, 21.1, 18.3, 14.7, 14.5, 18.1, 18.4,\n",
    "              13.9, 19.1, 18.5, 20.2, 23.8, 16.7, 20.4,\n",
    "              19.5, 17.2, 19.6, 17.8, 21.3, 17.5, 19.4,\n",
    "              17.8, 13.5, 17.8, 11.8, 18.6, 19.1])"
   ]
  },
  {
   "cell_type": "code",
   "execution_count": 69,
   "metadata": {},
   "outputs": [],
   "source": [
    "def freq_grouped_values(M: np.array, n_intervals: int) -> pd.DataFrame:\n",
    "    \"\"\"\n",
    "    Таблица частот группированной выборки\n",
    "    \"\"\"\n",
    "    df = pd.DataFrame(M)\n",
    "    start = round(min(M))\n",
    "    w = max(M)-min(M)\n",
    "    b = round(w/n_intervals)\n",
    "    end = round(max(M))\n",
    "    L = len(M)\n",
    "    df = df.groupby(pd.cut(M, np.arange(start,end+b,b))).agg(['count'])\n",
    "    df.columns = df.columns.get_level_values(0)\n",
    "    df.columns = ['Freq']\n",
    "    mid_points = np.arange(start+b/2,end,b)\n",
    "    df['Mid_points'] = mid_points\n",
    "    df['Cum_freq'] = df['Freq'].cumsum()\n",
    "    df['Rel_freq'] = df['Freq'] / L\n",
    "    df['Rel_c_freq'] = df['Cum_freq'] / L\n",
    "    df = df[['Mid_points','Freq','Cum_freq','Rel_freq','Rel_c_freq']]\n",
    "    return df.round(4)"
   ]
  },
  {
   "cell_type": "code",
   "execution_count": 70,
   "metadata": {},
   "outputs": [],
   "source": [
    "# значеия понадобятся дальше\n",
    "n_intervals = 7\n",
    "w = max(M)-min(M)\n",
    "b = round(w/n_intervals)\n",
    "start = round(min(M))\n",
    "end = round(max(M))"
   ]
  },
  {
   "cell_type": "code",
   "execution_count": 71,
   "metadata": {},
   "outputs": [],
   "source": [
    "T = freq_grouped_values(M,n_intervals)"
   ]
  },
  {
   "cell_type": "code",
   "execution_count": 72,
   "metadata": {},
   "outputs": [
    {
     "data": {
      "text/html": [
       "<div>\n",
       "<style scoped>\n",
       "    .dataframe tbody tr th:only-of-type {\n",
       "        vertical-align: middle;\n",
       "    }\n",
       "\n",
       "    .dataframe tbody tr th {\n",
       "        vertical-align: top;\n",
       "    }\n",
       "\n",
       "    .dataframe thead th {\n",
       "        text-align: right;\n",
       "    }\n",
       "</style>\n",
       "<table border=\"1\" class=\"dataframe\">\n",
       "  <thead>\n",
       "    <tr style=\"text-align: right;\">\n",
       "      <th></th>\n",
       "      <th>Mid_points</th>\n",
       "      <th>Freq</th>\n",
       "      <th>Cum_freq</th>\n",
       "      <th>Rel_freq</th>\n",
       "      <th>Rel_c_freq</th>\n",
       "    </tr>\n",
       "  </thead>\n",
       "  <tbody>\n",
       "    <tr>\n",
       "      <th>(10.0, 12.0]</th>\n",
       "      <td>11.0</td>\n",
       "      <td>2</td>\n",
       "      <td>2</td>\n",
       "      <td>0.0364</td>\n",
       "      <td>0.0364</td>\n",
       "    </tr>\n",
       "    <tr>\n",
       "      <th>(12.0, 14.0]</th>\n",
       "      <td>13.0</td>\n",
       "      <td>4</td>\n",
       "      <td>6</td>\n",
       "      <td>0.0727</td>\n",
       "      <td>0.1091</td>\n",
       "    </tr>\n",
       "    <tr>\n",
       "      <th>(14.0, 16.0]</th>\n",
       "      <td>15.0</td>\n",
       "      <td>8</td>\n",
       "      <td>14</td>\n",
       "      <td>0.1455</td>\n",
       "      <td>0.2545</td>\n",
       "    </tr>\n",
       "    <tr>\n",
       "      <th>(16.0, 18.0]</th>\n",
       "      <td>17.0</td>\n",
       "      <td>12</td>\n",
       "      <td>26</td>\n",
       "      <td>0.2182</td>\n",
       "      <td>0.4727</td>\n",
       "    </tr>\n",
       "    <tr>\n",
       "      <th>(18.0, 20.0]</th>\n",
       "      <td>19.0</td>\n",
       "      <td>15</td>\n",
       "      <td>41</td>\n",
       "      <td>0.2727</td>\n",
       "      <td>0.7455</td>\n",
       "    </tr>\n",
       "    <tr>\n",
       "      <th>(20.0, 22.0]</th>\n",
       "      <td>21.0</td>\n",
       "      <td>11</td>\n",
       "      <td>52</td>\n",
       "      <td>0.2000</td>\n",
       "      <td>0.9455</td>\n",
       "    </tr>\n",
       "    <tr>\n",
       "      <th>(22.0, 24.0]</th>\n",
       "      <td>23.0</td>\n",
       "      <td>3</td>\n",
       "      <td>55</td>\n",
       "      <td>0.0545</td>\n",
       "      <td>1.0000</td>\n",
       "    </tr>\n",
       "  </tbody>\n",
       "</table>\n",
       "</div>"
      ],
      "text/plain": [
       "              Mid_points  Freq  Cum_freq  Rel_freq  Rel_c_freq\n",
       "(10.0, 12.0]        11.0     2         2    0.0364      0.0364\n",
       "(12.0, 14.0]        13.0     4         6    0.0727      0.1091\n",
       "(14.0, 16.0]        15.0     8        14    0.1455      0.2545\n",
       "(16.0, 18.0]        17.0    12        26    0.2182      0.4727\n",
       "(18.0, 20.0]        19.0    15        41    0.2727      0.7455\n",
       "(20.0, 22.0]        21.0    11        52    0.2000      0.9455\n",
       "(22.0, 24.0]        23.0     3        55    0.0545      1.0000"
      ]
     },
     "execution_count": 72,
     "metadata": {},
     "output_type": "execute_result"
    }
   ],
   "source": [
    "T"
   ]
  },
  {
   "cell_type": "markdown",
   "metadata": {},
   "source": [
    "Пусть ($x_{1}$,$x_{2}$,...,$x_{n}$) - выборка из генеральной совокупности с функцией распределения $F_{x}(x)$. $\\textit{Распределением выборки}$ называется распределение дискретной случайной величины, принимающей значения распределения $x_{1}$,$x_{2}$,...,$x_{n}$ с вероятностями $\\frac{1}{n}$. Соответствующая функция распределения называется $\\textit{эмперической (выборочной) функцией распределения}$ и обозначается $F_{n}^{*}(x)$."
   ]
  },
  {
   "cell_type": "markdown",
   "metadata": {},
   "source": [
    "Эмперическая функция распределения определяется по значениям накопленных частот соотношением\n",
    "$$F_{n}^{*}(x)=\\frac{1}{n}\\sum_{z_{i}<x}n_{i},$$\n",
    "суммируются частоты тех элементо выборки, для которых выполняется неравенство $z_{i}<x$."
   ]
  },
  {
   "cell_type": "markdown",
   "metadata": {},
   "source": [
    "$\\textit{Гистограммой частот}$ группированной выборки называется кусочно-постоянная функция, постоянная на интервалах группировки и принимающая на каждом их них значения $\\frac{n_{i}}{b}$, i=1.2...k соответственно. Аналогично определяется гитограмма относительных частот."
   ]
  },
  {
   "cell_type": "markdown",
   "metadata": {},
   "source": [
    "$\\textit{Полигоном частот}$ называется ломаная с вершинами в точках ($z_{i},\\frac{n_{i}}{b}$), i=1.2...k, а полигоном относительных частот - ломаная с вершинами в точках ($z_{i},\\frac{n_{i}}{nb}$), i=1.2...k."
   ]
  },
  {
   "cell_type": "markdown",
   "metadata": {},
   "source": [
    "Пример 3. Построить гистограмму и полигон частот, а также график эмпирической функции распределения группированной выборки из примера 2."
   ]
  },
  {
   "cell_type": "code",
   "execution_count": 73,
   "metadata": {},
   "outputs": [],
   "source": [
    "# Реализуем функцию эмпирического распределения в лоб - для наглядности"
   ]
  },
  {
   "cell_type": "code",
   "execution_count": 74,
   "metadata": {},
   "outputs": [],
   "source": [
    "def empirical_distribution(M:np.array,T:pd.DataFrame)->np.array:\n",
    "    \"\"\"\n",
    "    Эмперическая функция распределения\n",
    "    \"\"\"\n",
    "    F = []\n",
    "    L = len(M)\n",
    "    for x in M:\n",
    "        f = 0\n",
    "        for i,row in T.iterrows():\n",
    "            z = row.Mid_points\n",
    "            n = row.Freq\n",
    "            if z < x:\n",
    "                f+=n\n",
    "        F.append(f/L)\n",
    "    return np.unique(np.array(F))"
   ]
  },
  {
   "cell_type": "code",
   "execution_count": 75,
   "metadata": {},
   "outputs": [],
   "source": [
    "F = empirical_distribution(M,T)"
   ]
  },
  {
   "cell_type": "code",
   "execution_count": 76,
   "metadata": {},
   "outputs": [
    {
     "data": {
      "text/plain": [
       "array([0.        , 0.03636364, 0.10909091, 0.25454545, 0.47272727,\n",
       "       0.74545455, 0.94545455, 1.        ])"
      ]
     },
     "execution_count": 76,
     "metadata": {},
     "output_type": "execute_result"
    }
   ],
   "source": [
    "F"
   ]
  },
  {
   "cell_type": "code",
   "execution_count": 77,
   "metadata": {},
   "outputs": [],
   "source": [
    "# В англоязычной литературе эмперическая функция распределения известна как \n",
    "# empirical cumulative distribution function - ECDF. Её реализация есть в библиотеке statsmodels."
   ]
  },
  {
   "cell_type": "code",
   "execution_count": 78,
   "metadata": {},
   "outputs": [],
   "source": [
    "# ECDF принимает на вход массив, а возвращает функцию, которая показывает значение функции F(x)\n",
    "ecdf = ECDF(M)"
   ]
  },
  {
   "cell_type": "code",
   "execution_count": 79,
   "metadata": {},
   "outputs": [],
   "source": [
    "F_ = [round(ecdf(x),4) for x in np.arange(start,end+b,b)]\n",
    "F = F.round(4)"
   ]
  },
  {
   "cell_type": "code",
   "execution_count": 80,
   "metadata": {},
   "outputs": [],
   "source": [
    "# Проверим, что наша реализация работает корректно"
   ]
  },
  {
   "cell_type": "code",
   "execution_count": 81,
   "metadata": {},
   "outputs": [
    {
     "data": {
      "text/plain": [
       "array([ True,  True,  True,  True,  True,  True,  True,  True])"
      ]
     },
     "execution_count": 81,
     "metadata": {},
     "output_type": "execute_result"
    }
   ],
   "source": [
    "F == F_"
   ]
  },
  {
   "cell_type": "code",
   "execution_count": 82,
   "metadata": {},
   "outputs": [],
   "source": [
    "# Построим указанные графики"
   ]
  },
  {
   "cell_type": "code",
   "execution_count": 83,
   "metadata": {},
   "outputs": [
    {
     "data": {
      "text/plain": [
       "Text(0.5, 1.0, 'Эмперическая функция распределения')"
      ]
     },
     "execution_count": 83,
     "metadata": {},
     "output_type": "execute_result"
    },
    {
     "data": {
      "image/png": "[encoded data removed]",
      "text/plain": [
       "<Figure size 1152x720 with 4 Axes>"
      ]
     },
     "metadata": {
      "needs_background": "light"
     },
     "output_type": "display_data"
    }
   ],
   "source": [
    "fig, axes = plt.subplots(2,2, figsize=(16,10))\n",
    "x = np.arange(start+b,end+b,b)\n",
    "axes[0,0].bar(x=x, height=T.Freq/b, width=-1.96, linewidth=1, color='grey', edgecolor='black',align='edge')\n",
    "axes[0,0].grid(True)\n",
    "axes[0,0].set_xlabel(\"x\")\n",
    "axes[0,0].set_ylabel(\"n*/2\")\n",
    "axes[0,0].set_title(\"Гистограмма частот\")\n",
    "\n",
    "axes[0,1].grid(True)\n",
    "axes[0,1].plot(T.Mid_points, T.Freq/b, color='grey')\n",
    "axes[0,1].plot(T.Mid_points, T.Freq/b, marker='o', color='grey', markersize=6)\n",
    "axes[0,1].set_xlabel(\"x\")\n",
    "axes[0,1].set_ylabel(\"n*\")\n",
    "axes[0,1].set_title(\"Полигон частот\")\n",
    "\n",
    "x = np.arange(start,end+b,b)\n",
    "axes[1,0].bar(x=x, height=F, width=-2, color='grey', edgecolor='black',align='center')\n",
    "axes[1,0].grid(True)\n",
    "axes[1,0].set_xlabel(\"x\")\n",
    "axes[1,0].set_ylabel(\"F*\")\n",
    "axes[1,0].set_title(\"Эмперическая функция распределения\")\n",
    "\n",
    "axes[1,1].plot(x,F, color='grey')\n",
    "axes[1,1].grid(True)\n",
    "axes[1,1].set_xlabel(\"x\")\n",
    "axes[1,1].set_ylabel(\"F*\")\n",
    "axes[1,1].set_title(\"Эмперическая функция распределения\")"
   ]
  },
  {
   "cell_type": "markdown",
   "metadata": {},
   "source": [
    "#### 2. Числовые характеристики выборочного представления"
   ]
  },
  {
   "cell_type": "markdown",
   "metadata": {},
   "source": [
    "Для выборочного распределения математическое ожидание определяется как\n",
    "$$m_{x}^{*}(x)=\\frac{1}{n}\\sum_{j=1}^{n}x_{j},$$"
   ]
  },
  {
   "cell_type": "markdown",
   "metadata": {},
   "source": [
    "Дисперсия\n",
    "$$D_{x}^{*}(x)=\\frac{1}{n}(\\sum_{j=1}^{n}x_{j}^{2}-n\\overline{x}^{2}).$$"
   ]
  },
  {
   "cell_type": "markdown",
   "metadata": {},
   "source": [
    "Выборочной модой $d_{x}^{*}$ унимодального распределения называется элемент выборки, встречающийся с наибольшей частотой."
   ]
  },
  {
   "cell_type": "markdown",
   "metadata": {},
   "source": [
    "Выборочной медианой $h_{x}^{*}$ называется число, которое делит вариационный ряд на две части, содержащие равное число элементов. "
   ]
  },
  {
   "cell_type": "markdown",
   "metadata": {},
   "source": [
    "Пример 5. Определить среднее, моду и медиану для выборки 5,6,8,2,3,1,1,4."
   ]
  },
  {
   "cell_type": "code",
   "execution_count": 84,
   "metadata": {},
   "outputs": [],
   "source": [
    "# Выборка\n",
    "Arr = np.array([5,6,8,2,3,1,1,4])"
   ]
  },
  {
   "cell_type": "code",
   "execution_count": 85,
   "metadata": {},
   "outputs": [],
   "source": [
    "# Реализуем вручную указанные функции"
   ]
  },
  {
   "cell_type": "code",
   "execution_count": 86,
   "metadata": {},
   "outputs": [],
   "source": [
    "def my_mean(Arr: np.array)->float:\n",
    "    \"\"\"Среднее\"\"\"\n",
    "    return Arr.sum()/(len(Arr))\n",
    "\n",
    "def my_mode(Arr: np.array)->float:\n",
    "    \"\"\"Мода\"\"\"\n",
    "    c = Counter()\n",
    "    for n in Arr:\n",
    "        c[n]+=1\n",
    "    dx = c.most_common(1)\n",
    "    return dx\n",
    "\n",
    "def median(Arr: np.array)->float:\n",
    "    \"\"\"Медиана\"\"\"\n",
    "    Arr.sort()\n",
    "    n = len(Arr)\n",
    "    if n%2!=0:\n",
    "        i = int(n/2)\n",
    "        return float(Arr[i])\n",
    "    else:\n",
    "        i = int(n/2)\n",
    "        return float(0.5*(Arr[i-1]+Arr[i]))"
   ]
  },
  {
   "cell_type": "code",
   "execution_count": 87,
   "metadata": {},
   "outputs": [],
   "source": [
    "# Проверим, что написанные функции работают корректоно, их результаты совпадают с \n",
    "# результатами функций, реализованных в других библиотеках"
   ]
  },
  {
   "cell_type": "code",
   "execution_count": 88,
   "metadata": {},
   "outputs": [],
   "source": [
    "for _ in range(100):\n",
    "    for i in range(1,30):\n",
    "        arr = np.random.randint(100, size=i)\n",
    "        assert my_mean(arr) == arr.mean()\n",
    "        # медиана равно 50-му перцентилю\n",
    "        assert median(arr) == np.percentile(arr,50)\n",
    "        assert mode(arr)[0][0] == my_mode(arr)[0][0]"
   ]
  },
  {
   "cell_type": "code",
   "execution_count": 89,
   "metadata": {},
   "outputs": [
    {
     "data": {
      "text/plain": [
       "3.75"
      ]
     },
     "execution_count": 89,
     "metadata": {},
     "output_type": "execute_result"
    }
   ],
   "source": [
    "# Среднее\n",
    "mx = Arr.mean()\n",
    "mx"
   ]
  },
  {
   "cell_type": "code",
   "execution_count": 90,
   "metadata": {},
   "outputs": [
    {
     "data": {
      "text/plain": [
       "3.5"
      ]
     },
     "execution_count": 90,
     "metadata": {},
     "output_type": "execute_result"
    }
   ],
   "source": [
    "# Медиана\n",
    "hx = np.percentile(Arr,50) \n",
    "hx"
   ]
  },
  {
   "cell_type": "code",
   "execution_count": 91,
   "metadata": {},
   "outputs": [
    {
     "data": {
      "text/plain": [
       "ModeResult(mode=array([1]), count=array([2]))"
      ]
     },
     "execution_count": 91,
     "metadata": {},
     "output_type": "execute_result"
    }
   ],
   "source": [
    "dx = mode(Arr)\n",
    "# Число 1 встречается 2 раза\n",
    "dx"
   ]
  },
  {
   "cell_type": "code",
   "execution_count": 92,
   "metadata": {},
   "outputs": [],
   "source": [
    "# Вычислим то же самое в pandas"
   ]
  },
  {
   "cell_type": "code",
   "execution_count": 93,
   "metadata": {},
   "outputs": [],
   "source": [
    "df = pd.DataFrame(Arr, columns=['x'])"
   ]
  },
  {
   "cell_type": "code",
   "execution_count": 94,
   "metadata": {},
   "outputs": [
    {
     "data": {
      "text/plain": [
       "3.75"
      ]
     },
     "execution_count": 94,
     "metadata": {},
     "output_type": "execute_result"
    }
   ],
   "source": [
    "# Среднее значение\n",
    "df.x.mean()"
   ]
  },
  {
   "cell_type": "code",
   "execution_count": 95,
   "metadata": {},
   "outputs": [
    {
     "data": {
      "text/plain": [
       "x    3.5\n",
       "Name: 0.5, dtype: float64"
      ]
     },
     "execution_count": 95,
     "metadata": {},
     "output_type": "execute_result"
    }
   ],
   "source": [
    "# Медиана также равно 0.5 квантилю\n",
    "df.quantile(0.5)"
   ]
  },
  {
   "cell_type": "code",
   "execution_count": 96,
   "metadata": {},
   "outputs": [
    {
     "data": {
      "text/plain": [
       "0    1\n",
       "dtype: int64"
      ]
     },
     "execution_count": 96,
     "metadata": {},
     "output_type": "execute_result"
    }
   ],
   "source": [
    "# Мода\n",
    "df.x.mode()"
   ]
  },
  {
   "cell_type": "code",
   "execution_count": null,
   "metadata": {},
   "outputs": [],
   "source": []
  }
 ],
 "metadata": {
  "kernelspec": {
   "display_name": "ml",
   "language": "python",
   "name": "ml"
  },
  "language_info": {
   "codemirror_mode": {
    "name": "ipython",
    "version": 3
   },
   "file_extension": ".py",
   "mimetype": "text/x-python",
   "name": "python",
   "nbconvert_exporter": "python",
   "pygments_lexer": "ipython3",
   "version": "3.7.5"
  }
 },
 "nbformat": 4,
 "nbformat_minor": 2
}
