{
 "cells": [
  {
   "cell_type": "code",
   "execution_count": 1,
   "metadata": {},
   "outputs": [],
   "source": [
    "import numpy as np\n",
    "import pandas as pd\n",
    "from scipy.stats import mode\n",
    "from utils import *\n",
    "import matplotlib.pyplot as plt"
   ]
  },
  {
   "cell_type": "markdown",
   "metadata": {},
   "source": [
    "Примеры и определения взяты из книги Schaum's Outline of Theory and Problems of Statistics 3rd Edition by Murray R Spiegel, Larry J Stephens.\n",
    "Ниже приведен мой не дословный, но адекватный перевод.\n",
    "#### Стандартное отклонение и другие меры изменчивости"
   ]
  },
  {
   "cell_type": "markdown",
   "metadata": {},
   "source": [
    "*Размах (range)* - разница между максимальным и минимальным элементом выборки."
   ]
  },
  {
   "cell_type": "code",
   "execution_count": 2,
   "metadata": {},
   "outputs": [
    {
     "data": {
      "text/plain": [
       "10"
      ]
     },
     "execution_count": 2,
     "metadata": {},
     "output_type": "execute_result"
    }
   ],
   "source": [
    "M = np.array([2,3,3,5,5,5,8,10,12])\n",
    "# Размах w \n",
    "w = M.max() - M.min()\n",
    "w"
   ]
  },
  {
   "cell_type": "markdown",
   "metadata": {},
   "source": [
    "*Среднее (абсолютное) отклонение (mean deviation)* выборки $x_{1},x_{2},...,x_{n}$:\n",
    "<p style=\"text-align: center\"> <b> $MD=\\frac{\\sum{(x-|x|)}}{n}$ </b> </p>"
   ]
  },
  {
   "cell_type": "code",
   "execution_count": 3,
   "metadata": {},
   "outputs": [
    {
     "data": {
      "text/plain": [
       "2.8"
      ]
     },
     "execution_count": 3,
     "metadata": {},
     "output_type": "execute_result"
    }
   ],
   "source": [
    "M = np.array([2,3,6,8,11])\n",
    "MD = np.sum(abs(M-M.mean()))/M.size\n",
    "MD"
   ]
  },
  {
   "cell_type": "markdown",
   "metadata": {},
   "source": [
    "Если числа $x_{1},x_{2},...,x_{n}$ встречаются в выборке $f_{1},f_{2},...,f_{n}$ раз, то:\n",
    "<p style=\"text-align: center\"> <b> $MD=\\frac{\\sum{f(x-|x|)}}{n},  n=\\sum_{}{f}$ </b> </p>"
   ]
  },
  {
   "cell_type": "markdown",
   "metadata": {},
   "source": [
    "*Интерквантильный размах (iterquartile range)* выборки - разница между третьим и первым квартилями:\n",
    "<p style=\"text-align: center\"> <b> $Q=Q_{3}-Q_{1}$ </b> </p>\n",
    "*Полу - интерквантильный размах (semi-iterquartile range)*:\n",
    "<p style=\"text-align: center\"> <b> $Q=\\frac{Q_{3}-Q_{1}}{2}$ </b> </p>"
   ]
  },
  {
   "cell_type": "markdown",
   "metadata": {},
   "source": [
    "*10-90 percentile range (не нашел в русскоязычной литературе такой меры, но и так понятно)*:\n",
    "    <p style=\"text-align: center\"> <b> 10-90 percentile range = $P_{90}-P_{10}$ </b> </p>"
   ]
  },
  {
   "cell_type": "markdown",
   "metadata": {},
   "source": [
    "*Стандартное отклонение (standart deviation)*:\n",
    "    <p style=\"text-align: center\"> <b> $\\sigma=\\sqrt{\\frac{\\sum{(x-\\overline{x})^{2}}}{n}}$ </b> </p>\n",
    "Если речь идет о стандартном отклонении генеральной совокупности. Если считаем стандартное отклонение выборки из генеральной совокупности, оценку корректируют:\n",
    "<p style=\"text-align: center\"> <b> $sd=\\sqrt{\\frac{\\sum{(x-\\overline{x})^{2}}}{n-1}}$ </b> </p>"
   ]
  },
  {
   "cell_type": "markdown",
   "metadata": {},
   "source": [
    "*Дисперсия (variance)* - квадрат стандартного отклонения $D=\\sigma^{2}$"
   ]
  },
  {
   "cell_type": "markdown",
   "metadata": {},
   "source": [
    "Нормальное распределение имеет следующие свойства:\n",
    "1. 68.27% наблюдений находятся в интервале $\\overline{x}\\pm\\sigma$\n",
    "2. 94.45% наблюдений находятся в интервале $\\overline{x}\\pm2\\sigma$\n",
    "2. 99.73% наблюдений находятся в интервале $\\overline{x}\\pm3\\sigma$"
   ]
  },
  {
   "cell_type": "markdown",
   "metadata": {},
   "source": [
    "Если даны два распределения из $N_{1} и N_{2}$ наблюдений с одинаковым средним, то общая дисперсия равна:\n",
    "<p style=\"text-align: center\"> <b> $\\sigma^{2}=\\frac{N_{1}s^{2}_{1}+N_{2}s^{2}_{1}}{N_{1}+N_{2}}$ </b> </p>"
   ]
  },
  {
   "cell_type": "markdown",
   "metadata": {},
   "source": [
    "Поправка Шеппарда (Sheppards correction) - поправка дисперсии при вычислении дисперсии группированной выборки:\n",
    "<p style=\"text-align: center\"> <b> $D_{corr}=D-\\frac{c}{12}$ </b> </p>\n",
    "D - дисперсия групппированной выборки, <br>\n",
    "c - размер интервала (class-interval size)."
   ]
  },
  {
   "cell_type": "markdown",
   "metadata": {},
   "source": [
    "*Коэффициент вариации (coefficient of variation)* - отношение стандартного отклонения к среднему (обычно выражается в процентах):\n",
    "    <p style=\"text-align: center\"> <b> $V=\\frac{\\sigma}{\\overline{x}}$ </b> </p>"
   ]
  },
  {
   "cell_type": "markdown",
   "metadata": {},
   "source": [
    "*Стандартизация или z-преобразование* - преобразование полученных данных в стандартную z-шкалу со средним равным нулю и стандартным отклонением, равным единице.\n",
    "    <p style=\"text-align: center\"> <b> $z_{i}=\\frac{x_{i}-\\overline{x}}{\\sigma}$ </b> </p>"
   ]
  },
  {
   "cell_type": "code",
   "execution_count": null,
   "metadata": {},
   "outputs": [],
   "source": []
  }
 ],
 "metadata": {
  "kernelspec": {
   "display_name": "Python 3",
   "language": "python",
   "name": "python3"
  },
  "language_info": {
   "codemirror_mode": {
    "name": "ipython",
    "version": 3
   },
   "file_extension": ".py",
   "mimetype": "text/x-python",
   "name": "python",
   "nbconvert_exporter": "python",
   "pygments_lexer": "ipython3",
   "version": "3.7.7"
  }
 },
 "nbformat": 4,
 "nbformat_minor": 4
}
