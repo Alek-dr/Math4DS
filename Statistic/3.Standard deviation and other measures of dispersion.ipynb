{
 "cells": [
  {
   "cell_type": "code",
   "execution_count": 1,
   "metadata": {},
   "outputs": [],
   "source": [
    "import numpy as np\n",
    "import pandas as pd\n",
    "from scipy.stats import mode\n",
    "from utils import *\n",
    "import matplotlib.pyplot as plt"
   ]
  },
  {
   "cell_type": "markdown",
   "metadata": {},
   "source": [
    "Примеры и определения взяты из книги Schaum's Outline of Theory and Problems of Statistics 3rd Edition by Murray R Spiegel, Larry J Stephens.\n",
    "Ниже приведен мой не дословный, но адекватный перевод.\n",
    "#### Стандартное отклонение и другие меры изменчивости"
   ]
  },
  {
   "cell_type": "markdown",
   "metadata": {},
   "source": [
    "*Размах (range)* - разница между максимальным и минимальным элементом выборки."
   ]
  },
  {
   "cell_type": "code",
   "execution_count": 2,
   "metadata": {},
   "outputs": [
    {
     "data": {
      "text/plain": [
       "10"
      ]
     },
     "execution_count": 2,
     "metadata": {},
     "output_type": "execute_result"
    }
   ],
   "source": [
    "M = np.array([2,3,3,5,5,5,8,10,12])\n",
    "# Размах w \n",
    "w = M.max() - M.min()\n",
    "w"
   ]
  },
  {
   "cell_type": "markdown",
   "metadata": {},
   "source": [
    "*Среднее (абсолютное) отклонение (mean deviation)* выборки $x_{1},x_{2},...,x_{n}$:\n",
    "<p style=\"text-align: center\"> <b> $MD=\\frac{\\sum{(x-|x|)}}{n}$ </b> </p>"
   ]
  },
  {
   "cell_type": "code",
   "execution_count": 3,
   "metadata": {},
   "outputs": [
    {
     "data": {
      "text/plain": [
       "2.8"
      ]
     },
     "execution_count": 3,
     "metadata": {},
     "output_type": "execute_result"
    }
   ],
   "source": [
    "M = np.array([2,3,6,8,11])\n",
    "MD = np.sum(abs(M-M.mean()))/M.size\n",
    "MD"
   ]
  },
  {
   "cell_type": "markdown",
   "metadata": {},
   "source": [
    "Если числа $x_{1},x_{2},...,x_{n}$ встречаются в выборке $f_{1},f_{2},...,f_{n}$ раз, то:\n",
    "<p style=\"text-align: center\"> <b> $MD=\\frac{\\sum{f(x-|x|)}}{n},  n=\\sum_{}{f}$ </b> </p>"
   ]
  },
  {
   "cell_type": "markdown",
   "metadata": {},
   "source": [
    "*Интерквантильный размах (iterquartile range)* выборки - разница между третьим и первым квартилями:\n",
    "<p style=\"text-align: center\"> <b> $Q=Q_{3}-Q_{1}$ </b> </p>\n",
    "*Полу - интерквантильный размах (semi-iterquartile range)*:\n",
    "<p style=\"text-align: center\"> <b> $Q=\\frac{Q_{3}-Q_{1}}{2}$ </b> </p>"
   ]
  },
  {
   "cell_type": "markdown",
   "metadata": {},
   "source": [
    "*10-90 percentile range (не нашел в русскоязычной литературе такой меры, но и так понятно)*:\n",
    "    <p style=\"text-align: center\"> <b> 10-90 percentile range = $P_{90}-P_{10}$ </b> </p>"
   ]
  },
  {
   "cell_type": "markdown",
   "metadata": {},
   "source": [
    "*Стандартное отклонение (standart deviation)*:\n",
    "    <p style=\"text-align: center\"> <b> $\\sigma=\\sqrt{\\frac{\\sum{(x-\\overline{x})^{2}}}{n}}$ </b> </p>\n",
    "Если речь идет о стандартном отклонении генеральной совокупности. Если считаем стандартное отклонение выборки из генеральной совокупности, оценку корректируют:\n",
    "<p style=\"text-align: center\"> <b> $sd=\\sqrt{\\frac{\\sum{(x-\\overline{x})^{2}}}{n-1}}$ </b> </p>"
   ]
  },
  {
   "cell_type": "markdown",
   "metadata": {},
   "source": [
    "*Дисперсия (variance)* - квадрат стандартного отклонения $D=\\sigma^{2}$"
   ]
  },
  {
   "cell_type": "markdown",
   "metadata": {},
   "source": [
    "Нормальное распределение имеет следующие свойства:\n",
    "1. 68.27% наблюдений находятся в интервале $\\overline{x}\\pm\\sigma$\n",
    "2. 94.45% наблюдений находятся в интервале $\\overline{x}\\pm2\\sigma$\n",
    "2. 99.73% наблюдений находятся в интервале $\\overline{x}\\pm3\\sigma$"
   ]
  },
  {
   "cell_type": "markdown",
   "metadata": {},
   "source": [
    "Если даны два распределения из $N_{1} и N_{2}$ наблюдений с одинаковым средним, то общая дисперсия равна:\n",
    "<p style=\"text-align: center\"> <b> $\\sigma^{2}=\\frac{N_{1}s^{2}_{1}+N_{2}s^{2}_{1}}{N_{1}+N_{2}}$ </b> </p>"
   ]
  },
  {
   "cell_type": "markdown",
   "metadata": {},
   "source": [
    "Поправка Шеппарда (Sheppards correction) - поправка дисперсии при вычислении дисперсии группированной выборки:\n",
    "<p style=\"text-align: center\"> <b> $D_{corr}=D-\\frac{c}{12}$ </b> </p>\n",
    "D - дисперсия групппированной выборки, <br>\n",
    "c - размер интервала (class-interval size)."
   ]
  },
  {
   "cell_type": "markdown",
   "metadata": {},
   "source": [
    "*Коэффициент вариации (coefficient of variation)* - отношение стандартного отклонения к среднему (обычно выражается в процентах):\n",
    "    <p style=\"text-align: center\"> <b> $V=\\frac{\\sigma}{\\overline{x}}$ </b> </p>"
   ]
  },
  {
   "cell_type": "markdown",
   "metadata": {},
   "source": [
    "*Стандартизация или z-преобразование* - преобразование полученных данных в стандартную z-шкалу со средним равным нулю и стандартным отклонением, равным единице.\n",
    "    <p style=\"text-align: center\"> <b> $z_{i}=\\frac{x_{i}-\\overline{x}}{\\sigma}$ </b> </p>"
   ]
  },
  {
   "cell_type": "markdown",
   "metadata": {},
   "source": [
    "Пример 3.1. Найти размах выборок:\n",
    "<div style=\"text-align: right\"> pr 4.1 </div>"
   ]
  },
  {
   "cell_type": "code",
   "execution_count": 4,
   "metadata": {},
   "outputs": [],
   "source": [
    "M1 = np.array([12,6,7,3,15,10,18,5])\n",
    "M2 = np.array([9,3,8,8,9,8,9,18])"
   ]
  },
  {
   "cell_type": "code",
   "execution_count": 5,
   "metadata": {},
   "outputs": [
    {
     "name": "stdout",
     "output_type": "stream",
     "text": [
      "Размах 1: 15\n",
      "Размах 2: 15\n"
     ]
    }
   ],
   "source": [
    "w1 = M1.max()-M1.min()\n",
    "w2 = M2.max()-M2.min()\n",
    "print(f\"Размах 1: {w1}\")\n",
    "print(f\"Размах 2: {w2}\")"
   ]
  },
  {
   "cell_type": "code",
   "execution_count": 6,
   "metadata": {},
   "outputs": [],
   "source": [
    "# Пример чтоб показать, что размах обычно не самая хорошая мера изменчивости. В M1 изменчивость сама по себе больше,\n",
    "# а M2 состоит в основном из 8 и 9, и только два выброса 3 и 18 обеспечивают такое же значение размаха в M2 как в M1."
   ]
  },
  {
   "cell_type": "markdown",
   "metadata": {},
   "source": [
    "Пример 3.2. Найти размах выборки табл 2.1:\n",
    "<div style=\"text-align: right\"> pr 4.2 </div>"
   ]
  },
  {
   "cell_type": "code",
   "execution_count": 7,
   "metadata": {},
   "outputs": [
    {
     "data": {
      "text/html": [
       "<div>\n",
       "<style scoped>\n",
       "    .dataframe tbody tr th:only-of-type {\n",
       "        vertical-align: middle;\n",
       "    }\n",
       "\n",
       "    .dataframe tbody tr th {\n",
       "        vertical-align: top;\n",
       "    }\n",
       "\n",
       "    .dataframe thead th {\n",
       "        text-align: right;\n",
       "    }\n",
       "</style>\n",
       "<table border=\"1\" class=\"dataframe\">\n",
       "  <thead>\n",
       "    <tr style=\"text-align: right;\">\n",
       "      <th></th>\n",
       "      <th>Frequency</th>\n",
       "    </tr>\n",
       "    <tr>\n",
       "      <th>Height</th>\n",
       "      <th></th>\n",
       "    </tr>\n",
       "  </thead>\n",
       "  <tbody>\n",
       "    <tr>\n",
       "      <th>[60, 62]</th>\n",
       "      <td>5</td>\n",
       "    </tr>\n",
       "    <tr>\n",
       "      <th>[63, 65]</th>\n",
       "      <td>18</td>\n",
       "    </tr>\n",
       "    <tr>\n",
       "      <th>[66, 68]</th>\n",
       "      <td>42</td>\n",
       "    </tr>\n",
       "    <tr>\n",
       "      <th>[69, 71]</th>\n",
       "      <td>27</td>\n",
       "    </tr>\n",
       "    <tr>\n",
       "      <th>[72, 74]</th>\n",
       "      <td>8</td>\n",
       "    </tr>\n",
       "  </tbody>\n",
       "</table>\n",
       "</div>"
      ],
      "text/plain": [
       "          Frequency\n",
       "Height             \n",
       "[60, 62]          5\n",
       "[63, 65]         18\n",
       "[66, 68]         42\n",
       "[69, 71]         27\n",
       "[72, 74]          8"
      ]
     },
     "execution_count": 7,
     "metadata": {},
     "output_type": "execute_result"
    }
   ],
   "source": [
    "df = table21()\n",
    "df"
   ]
  },
  {
   "cell_type": "code",
   "execution_count": 8,
   "metadata": {},
   "outputs": [],
   "source": [
    "# Выборка группированная и есть два пути определить размах"
   ]
  },
  {
   "cell_type": "code",
   "execution_count": 9,
   "metadata": {},
   "outputs": [
    {
     "data": {
      "text/plain": [
       "12.0"
      ]
     },
     "execution_count": 9,
     "metadata": {},
     "output_type": "execute_result"
    }
   ],
   "source": [
    "# Используя среднее значение интервала:\n",
    "w = df.index[-1].mid - df.index[0].mid\n",
    "w"
   ]
  },
  {
   "cell_type": "code",
   "execution_count": 10,
   "metadata": {},
   "outputs": [
    {
     "data": {
      "text/plain": [
       "15.0"
      ]
     },
     "execution_count": 10,
     "metadata": {},
     "output_type": "execute_result"
    }
   ],
   "source": [
    "# Используя верзние и нижние границы интервала\n",
    "d = 0.5*(df.index[1].left - df.index[0].right)\n",
    "w = (df.index[-1].right+d) - (df.index[0].left-d)\n",
    "w"
   ]
  },
  {
   "cell_type": "markdown",
   "metadata": {},
   "source": [
    "Пример 3.3. Найти среднее отклонение выборки примера 3.1:\n",
    "<div style=\"text-align: right\"> pr 4.3 </div>"
   ]
  },
  {
   "cell_type": "code",
   "execution_count": 11,
   "metadata": {},
   "outputs": [
    {
     "data": {
      "text/plain": [
       "4.873397172404482"
      ]
     },
     "execution_count": 11,
     "metadata": {},
     "output_type": "execute_result"
    }
   ],
   "source": [
    "M1.std()"
   ]
  },
  {
   "cell_type": "code",
   "execution_count": 12,
   "metadata": {},
   "outputs": [],
   "source": [
    "def mean_deviation(arr):\n",
    "    return np.sum(abs(arr-arr.mean()))/arr.size"
   ]
  },
  {
   "cell_type": "code",
   "execution_count": 13,
   "metadata": {},
   "outputs": [
    {
     "name": "stdout",
     "output_type": "stream",
     "text": [
      "Mean deviation 1 : 4.25\n",
      "Mean deviation 2 : 2.25\n"
     ]
    }
   ],
   "source": [
    "md1 = mean_deviation(M1)\n",
    "md2 = mean_deviation(M2)\n",
    "print(f\"Mean deviation 1 : {md1}\")\n",
    "print(f\"Mean deviation 2 : {md2}\")"
   ]
  },
  {
   "cell_type": "markdown",
   "metadata": {},
   "source": [
    "Пример 3.4. Найти среднее отклонение табл. 2.1:\n",
    "<div style=\"text-align: right\"> pr 4.4 </div>"
   ]
  },
  {
   "cell_type": "code",
   "execution_count": 14,
   "metadata": {},
   "outputs": [
    {
     "data": {
      "text/html": [
       "<div>\n",
       "<style scoped>\n",
       "    .dataframe tbody tr th:only-of-type {\n",
       "        vertical-align: middle;\n",
       "    }\n",
       "\n",
       "    .dataframe tbody tr th {\n",
       "        vertical-align: top;\n",
       "    }\n",
       "\n",
       "    .dataframe thead th {\n",
       "        text-align: right;\n",
       "    }\n",
       "</style>\n",
       "<table border=\"1\" class=\"dataframe\">\n",
       "  <thead>\n",
       "    <tr style=\"text-align: right;\">\n",
       "      <th></th>\n",
       "      <th>Frequency</th>\n",
       "    </tr>\n",
       "    <tr>\n",
       "      <th>Height</th>\n",
       "      <th></th>\n",
       "    </tr>\n",
       "  </thead>\n",
       "  <tbody>\n",
       "    <tr>\n",
       "      <th>[60, 62]</th>\n",
       "      <td>5</td>\n",
       "    </tr>\n",
       "    <tr>\n",
       "      <th>[63, 65]</th>\n",
       "      <td>18</td>\n",
       "    </tr>\n",
       "    <tr>\n",
       "      <th>[66, 68]</th>\n",
       "      <td>42</td>\n",
       "    </tr>\n",
       "    <tr>\n",
       "      <th>[69, 71]</th>\n",
       "      <td>27</td>\n",
       "    </tr>\n",
       "    <tr>\n",
       "      <th>[72, 74]</th>\n",
       "      <td>8</td>\n",
       "    </tr>\n",
       "  </tbody>\n",
       "</table>\n",
       "</div>"
      ],
      "text/plain": [
       "          Frequency\n",
       "Height             \n",
       "[60, 62]          5\n",
       "[63, 65]         18\n",
       "[66, 68]         42\n",
       "[69, 71]         27\n",
       "[72, 74]          8"
      ]
     },
     "execution_count": 14,
     "metadata": {},
     "output_type": "execute_result"
    }
   ],
   "source": [
    "df"
   ]
  },
  {
   "cell_type": "code",
   "execution_count": 15,
   "metadata": {},
   "outputs": [],
   "source": [
    "# Как найти среднее было разобрано в примере 2.2, но выполним еще раз\n",
    "df['Class mark'] = [i.mid for i in df.index]\n",
    "df['fX'] = df.Frequency * df['Class mark']\n",
    "mean = df['fX'].sum()/df['Frequency'].sum()"
   ]
  },
  {
   "cell_type": "code",
   "execution_count": 16,
   "metadata": {},
   "outputs": [
    {
     "data": {
      "text/plain": [
       "67.45"
      ]
     },
     "execution_count": 16,
     "metadata": {},
     "output_type": "execute_result"
    }
   ],
   "source": [
    "mean"
   ]
  },
  {
   "cell_type": "code",
   "execution_count": 17,
   "metadata": {},
   "outputs": [
    {
     "data": {
      "text/html": [
       "<div>\n",
       "<style scoped>\n",
       "    .dataframe tbody tr th:only-of-type {\n",
       "        vertical-align: middle;\n",
       "    }\n",
       "\n",
       "    .dataframe tbody tr th {\n",
       "        vertical-align: top;\n",
       "    }\n",
       "\n",
       "    .dataframe thead th {\n",
       "        text-align: right;\n",
       "    }\n",
       "</style>\n",
       "<table border=\"1\" class=\"dataframe\">\n",
       "  <thead>\n",
       "    <tr style=\"text-align: right;\">\n",
       "      <th></th>\n",
       "      <th>Frequency</th>\n",
       "      <th>Class mark</th>\n",
       "      <th>fX</th>\n",
       "    </tr>\n",
       "    <tr>\n",
       "      <th>Height</th>\n",
       "      <th></th>\n",
       "      <th></th>\n",
       "      <th></th>\n",
       "    </tr>\n",
       "  </thead>\n",
       "  <tbody>\n",
       "    <tr>\n",
       "      <th>[60, 62]</th>\n",
       "      <td>5</td>\n",
       "      <td>61.0</td>\n",
       "      <td>305.0</td>\n",
       "    </tr>\n",
       "    <tr>\n",
       "      <th>[63, 65]</th>\n",
       "      <td>18</td>\n",
       "      <td>64.0</td>\n",
       "      <td>1152.0</td>\n",
       "    </tr>\n",
       "    <tr>\n",
       "      <th>[66, 68]</th>\n",
       "      <td>42</td>\n",
       "      <td>67.0</td>\n",
       "      <td>2814.0</td>\n",
       "    </tr>\n",
       "    <tr>\n",
       "      <th>[69, 71]</th>\n",
       "      <td>27</td>\n",
       "      <td>70.0</td>\n",
       "      <td>1890.0</td>\n",
       "    </tr>\n",
       "    <tr>\n",
       "      <th>[72, 74]</th>\n",
       "      <td>8</td>\n",
       "      <td>73.0</td>\n",
       "      <td>584.0</td>\n",
       "    </tr>\n",
       "  </tbody>\n",
       "</table>\n",
       "</div>"
      ],
      "text/plain": [
       "          Frequency  Class mark      fX\n",
       "Height                                 \n",
       "[60, 62]          5        61.0   305.0\n",
       "[63, 65]         18        64.0  1152.0\n",
       "[66, 68]         42        67.0  2814.0\n",
       "[69, 71]         27        70.0  1890.0\n",
       "[72, 74]          8        73.0   584.0"
      ]
     },
     "execution_count": 17,
     "metadata": {},
     "output_type": "execute_result"
    }
   ],
   "source": [
    "df"
   ]
  },
  {
   "cell_type": "code",
   "execution_count": 18,
   "metadata": {},
   "outputs": [
    {
     "name": "stdout",
     "output_type": "stream",
     "text": [
      "2.265\n"
     ]
    }
   ],
   "source": [
    "md = np.sum((abs(df['Class mark'] - mean))*df.Frequency) / df.Frequency.sum()\n",
    "print(f\"{md:.3f}\")"
   ]
  },
  {
   "cell_type": "markdown",
   "metadata": {},
   "source": [
    "Пример 3.5. Определить процент студентов табл. 2.1, чей рост:\n",
    "1. $\\overline{x}\\pm MD$\n",
    "2. $\\overline{x}\\pm2\\ MD$\n",
    "2. $\\overline{x}\\pm3 MD$\n",
    "<div style=\"text-align: right\"> pr 4.5 </div>"
   ]
  },
  {
   "cell_type": "code",
   "execution_count": 19,
   "metadata": {},
   "outputs": [],
   "source": [
    "# 1\n",
    "start = mean - md\n",
    "stop  = mean + md"
   ]
  },
  {
   "cell_type": "code",
   "execution_count": 20,
   "metadata": {},
   "outputs": [
    {
     "data": {
      "text/html": [
       "<div>\n",
       "<style scoped>\n",
       "    .dataframe tbody tr th:only-of-type {\n",
       "        vertical-align: middle;\n",
       "    }\n",
       "\n",
       "    .dataframe tbody tr th {\n",
       "        vertical-align: top;\n",
       "    }\n",
       "\n",
       "    .dataframe thead th {\n",
       "        text-align: right;\n",
       "    }\n",
       "</style>\n",
       "<table border=\"1\" class=\"dataframe\">\n",
       "  <thead>\n",
       "    <tr style=\"text-align: right;\">\n",
       "      <th></th>\n",
       "      <th>Frequency</th>\n",
       "      <th>Class mark</th>\n",
       "      <th>fX</th>\n",
       "      <th>low_bnd</th>\n",
       "      <th>up_bnd</th>\n",
       "    </tr>\n",
       "    <tr>\n",
       "      <th>Height</th>\n",
       "      <th></th>\n",
       "      <th></th>\n",
       "      <th></th>\n",
       "      <th></th>\n",
       "      <th></th>\n",
       "    </tr>\n",
       "  </thead>\n",
       "  <tbody>\n",
       "    <tr>\n",
       "      <th>[60, 62]</th>\n",
       "      <td>5</td>\n",
       "      <td>61.0</td>\n",
       "      <td>305.0</td>\n",
       "      <td>59.5</td>\n",
       "      <td>62.5</td>\n",
       "    </tr>\n",
       "    <tr>\n",
       "      <th>[63, 65]</th>\n",
       "      <td>18</td>\n",
       "      <td>64.0</td>\n",
       "      <td>1152.0</td>\n",
       "      <td>62.5</td>\n",
       "      <td>65.5</td>\n",
       "    </tr>\n",
       "    <tr>\n",
       "      <th>[66, 68]</th>\n",
       "      <td>42</td>\n",
       "      <td>67.0</td>\n",
       "      <td>2814.0</td>\n",
       "      <td>65.5</td>\n",
       "      <td>68.5</td>\n",
       "    </tr>\n",
       "    <tr>\n",
       "      <th>[69, 71]</th>\n",
       "      <td>27</td>\n",
       "      <td>70.0</td>\n",
       "      <td>1890.0</td>\n",
       "      <td>68.5</td>\n",
       "      <td>71.5</td>\n",
       "    </tr>\n",
       "    <tr>\n",
       "      <th>[72, 74]</th>\n",
       "      <td>8</td>\n",
       "      <td>73.0</td>\n",
       "      <td>584.0</td>\n",
       "      <td>71.5</td>\n",
       "      <td>74.5</td>\n",
       "    </tr>\n",
       "  </tbody>\n",
       "</table>\n",
       "</div>"
      ],
      "text/plain": [
       "          Frequency  Class mark      fX  low_bnd  up_bnd\n",
       "Height                                                  \n",
       "[60, 62]          5        61.0   305.0     59.5    62.5\n",
       "[63, 65]         18        64.0  1152.0     62.5    65.5\n",
       "[66, 68]         42        67.0  2814.0     65.5    68.5\n",
       "[69, 71]         27        70.0  1890.0     68.5    71.5\n",
       "[72, 74]          8        73.0   584.0     71.5    74.5"
      ]
     },
     "execution_count": 20,
     "metadata": {},
     "output_type": "execute_result"
    }
   ],
   "source": [
    "low, up = boundaries(df)\n",
    "df['low_bnd'] = low\n",
    "df['up_bnd'] = up\n",
    "df"
   ]
  },
  {
   "cell_type": "code",
   "execution_count": 21,
   "metadata": {},
   "outputs": [],
   "source": [
    "# interval size\n",
    "c = 3"
   ]
  },
  {
   "cell_type": "code",
   "execution_count": 22,
   "metadata": {},
   "outputs": [],
   "source": [
    "f1 = items_in_range(df,start,stop,c,'low_bnd','up_bnd')"
   ]
  },
  {
   "cell_type": "code",
   "execution_count": 23,
   "metadata": {},
   "outputs": [],
   "source": [
    "# 2\n",
    "start = mean - 2*md\n",
    "stop  = mean + 2*md"
   ]
  },
  {
   "cell_type": "code",
   "execution_count": 24,
   "metadata": {},
   "outputs": [],
   "source": [
    "f2 = items_in_range(df,start,stop,c,'low_bnd','up_bnd')"
   ]
  },
  {
   "cell_type": "code",
   "execution_count": 25,
   "metadata": {},
   "outputs": [],
   "source": [
    "# 3\n",
    "start = mean - 3*md\n",
    "stop  = mean + 3*md"
   ]
  },
  {
   "cell_type": "code",
   "execution_count": 26,
   "metadata": {},
   "outputs": [],
   "source": [
    "f3 = items_in_range(df,start,stop,c,'low_bnd','up_bnd')"
   ]
  },
  {
   "cell_type": "code",
   "execution_count": 27,
   "metadata": {},
   "outputs": [
    {
     "name": "stdout",
     "output_type": "stream",
     "text": [
      "Percent of x+-md : 55.0%\n",
      "Percent of x+-2md : 86.0%\n",
      "Percent of x+-3md : 97.0%\n"
     ]
    }
   ],
   "source": [
    "print(f\"Percent of x+-md : {f1}%\")\n",
    "print(f\"Percent of x+-2md : {f2}%\")\n",
    "print(f\"Percent of x+-3md : {f3}%\")"
   ]
  },
  {
   "cell_type": "code",
   "execution_count": null,
   "metadata": {},
   "outputs": [],
   "source": []
  }
 ],
 "metadata": {
  "kernelspec": {
   "display_name": "ml",
   "language": "python",
   "name": "ml"
  },
  "language_info": {
   "codemirror_mode": {
    "name": "ipython",
    "version": 3
   },
   "file_extension": ".py",
   "mimetype": "text/x-python",
   "name": "python",
   "nbconvert_exporter": "python",
   "pygments_lexer": "ipython3",
   "version": "3.7.5"
  }
 },
 "nbformat": 4,
 "nbformat_minor": 4
}
